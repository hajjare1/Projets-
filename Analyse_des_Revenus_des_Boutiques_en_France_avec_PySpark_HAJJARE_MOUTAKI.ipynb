{
  "cells": [
    {
      "cell_type": "markdown",
      "source": [
        "  Ce projet utilise **PySpark ** pour analyser les revenus mensuels des boutiques réparties dans plusieurs villes françaises. Les données sont extraites de plusieurs fichiers, consolidées et explorées pour fournir des insights financiers tels que :\n",
        "\n",
        "\n",
        "*   Revenu mensuel moyen global et par ville.\n",
        "*   Revenu total annuel par ville et par boutique.\n",
        "*   Identification de la boutique réalisant la meilleure performance chaque mois.\n",
        "\n",
        "Ce projet illustre l'utilisation de PySpark pour le traitement des données massives, l'agrégation et l'analyse avancée dans un contexte commercial."
      ],
      "metadata": {
        "id": "qGZB4vdNg9Cb"
      }
    },
    {
      "cell_type": "code",
      "execution_count": null,
      "metadata": {
        "id": "882_Jj3egVc8",
        "outputId": "06296962-4fda-433c-b5b4-4db9ffa877a0"
      },
      "outputs": [
        {
          "name": "stdout",
          "output_type": "stream",
          "text": [
            "Requirement already satisfied: pyspark in c:\\users\\mehdi katana\\anaconda3\\lib\\site-packages (3.5.1)\n",
            "Requirement already satisfied: py4j==0.10.9.7 in c:\\users\\mehdi katana\\anaconda3\\lib\\site-packages (from pyspark) (0.10.9.7)\n",
            "Note: you may need to restart the kernel to use updated packages.\n"
          ]
        },
        {
          "name": "stderr",
          "output_type": "stream",
          "text": [
            "\n",
            "[notice] A new release of pip is available: 24.0 -> 24.1.1\n",
            "[notice] To update, run: python.exe -m pip install --upgrade pip\n"
          ]
        }
      ],
      "source": [
        "pip install pyspark"
      ]
    },
    {
      "cell_type": "code",
      "execution_count": null,
      "metadata": {
        "id": "jx86Fe2zgVdB"
      },
      "outputs": [],
      "source": [
        "from pyspark.sql import SparkSession\n",
        "from pyspark.sql.types import StructType, StructField, StringType, FloatType\n",
        "from pyspark.sql.functions import col, split, avg, sum, max, lit\n",
        "from functools import reduce"
      ]
    },
    {
      "cell_type": "code",
      "execution_count": null,
      "metadata": {
        "id": "y4L36VG3gVdC"
      },
      "outputs": [],
      "source": [
        "spark = SparkSession.builder.appName(\"Shop Revenue Analysis\").getOrCreate()"
      ]
    },
    {
      "cell_type": "code",
      "execution_count": null,
      "metadata": {
        "id": "Pms57idhgVdC"
      },
      "outputs": [],
      "source": [
        "schema = StructType([\n",
        "    StructField(\"Month\", StringType(), True),\n",
        "    StructField(\"Revenue\", FloatType(), True)\n",
        "])"
      ]
    },
    {
      "cell_type": "code",
      "execution_count": null,
      "metadata": {
        "id": "UQ5YMo0JgVdD"
      },
      "outputs": [],
      "source": [
        "files = {\n",
        "    \"anger\": r\"C:\\Users\\Mehdi Katana\\Desktop\\Spark\\content\\anger.txt\",\n",
        "    \"lyon\": r\"C:\\Users\\Mehdi Katana\\Desktop\\Spark\\content\\lyon.txt\",\n",
        "    \"nice\": r\"C:\\Users\\Mehdi Katana\\Desktop\\Spark\\content\\nice.txt\",\n",
        "    \"orlean\": r\"C:\\Users\\Mehdi Katana\\Desktop\\Spark\\content\\orlean.txt\",\n",
        "    \"paris_1\": r\"C:\\Users\\Mehdi Katana\\Desktop\\Spark\\content\\paris_1.txt\",\n",
        "    \"paris_2\": r\"C:\\Users\\Mehdi Katana\\Desktop\\Spark\\content\\paris_2.txt\",\n",
        "    \"paris_3\": r\"C:\\Users\\Mehdi Katana\\Desktop\\Spark\\content\\paris_3.txt\",\n",
        "    \"rennes\": r\"C:\\Users\\Mehdi Katana\\Desktop\\Spark\\content\\rennes.txt\",\n",
        "    \"toulouse\": r\"C:\\Users\\Mehdi Katana\\Desktop\\Spark\\content\\toulouse.txt\",\n",
        "    \"troyes\": r\"C:\\Users\\Mehdi Katana\\Desktop\\Spark\\content\\troyes.txt\",\n",
        "    \"marseilles_1\": r\"C:\\Users\\Mehdi Katana\\Desktop\\Spark\\content\\marseilles_1.txt\",\n",
        "    \"marseilles_2\": r\"C:\\Users\\Mehdi Katana\\Desktop\\Spark\\content\\marseilles_2.txt\",\n",
        "    \"nantes\": r\"C:\\Users\\Mehdi Katana\\Desktop\\Spark\\content\\nantes.txt\"\n",
        "}"
      ]
    },
    {
      "cell_type": "code",
      "execution_count": null,
      "metadata": {
        "id": "SN7JcT9_gVdE"
      },
      "outputs": [],
      "source": [
        "def load_data(file_path, store_name):\n",
        "    df = spark.read.csv(file_path,schema = schema,sep = \" \")\n",
        "    df = df.withColumn(\"Store\", lit(store_name))\n",
        "    return df"
      ]
    },
    {
      "cell_type": "code",
      "execution_count": null,
      "metadata": {
        "id": "nR-2wxF7gVdE"
      },
      "outputs": [],
      "source": [
        "df_list = [load_data(path, name) for name, path in files.items()]\n",
        "df = reduce(lambda x, y: x.union(y), df_list)"
      ]
    },
    {
      "cell_type": "code",
      "execution_count": null,
      "metadata": {
        "id": "cB6pjt3RgVdF",
        "outputId": "41772694-b975-4113-b46a-fa8588561ed5"
      },
      "outputs": [
        {
          "name": "stdout",
          "output_type": "stream",
          "text": [
            "root\n",
            " |-- Month: string (nullable = true)\n",
            " |-- Revenue: float (nullable = true)\n",
            " |-- Store: string (nullable = false)\n",
            "\n",
            "+-----+-------+-----+\n",
            "|Month|Revenue|Store|\n",
            "+-----+-------+-----+\n",
            "|  JAN|   13.0|anger|\n",
            "|  FEB|   12.0|anger|\n",
            "|  MAR|   14.0|anger|\n",
            "|  APR|   15.0|anger|\n",
            "|  MAY|   12.0|anger|\n",
            "|  JUN|   15.0|anger|\n",
            "|  JUL|   19.0|anger|\n",
            "|  AUG|   15.0|anger|\n",
            "|  SEP|   13.0|anger|\n",
            "|  OCT|    8.0|anger|\n",
            "|  NOV|   14.0|anger|\n",
            "|  DEC|   16.0|anger|\n",
            "|  JAN|   13.0| lyon|\n",
            "|  FEB|   12.0| lyon|\n",
            "|  MAR|   14.0| lyon|\n",
            "|  APR|   15.0| lyon|\n",
            "|  MAY|   12.0| lyon|\n",
            "|  JUN|   15.0| lyon|\n",
            "|  JUL|   19.0| lyon|\n",
            "|  AUG|   25.0| lyon|\n",
            "+-----+-------+-----+\n",
            "only showing top 20 rows\n",
            "\n"
          ]
        }
      ],
      "source": [
        "df.printSchema()\n",
        "df.show()\n"
      ]
    },
    {
      "cell_type": "markdown",
      "metadata": {
        "id": "TSsUBfsWgVdG"
      },
      "source": [
        "# 1. Average monthly income of the shop (all branches) in France"
      ]
    },
    {
      "cell_type": "code",
      "execution_count": null,
      "metadata": {
        "id": "JKN7V70NgVdH"
      },
      "outputs": [],
      "source": [
        "average_monthly_income_france = df.groupBy(\"Month\").agg(avg(\"Revenue\").alias(\"Average_Monthly_Income_France\"))\n"
      ]
    },
    {
      "cell_type": "markdown",
      "metadata": {
        "id": "VCsI6knmgVdI"
      },
      "source": [
        "# 2. Average monthly income of the shop in each city"
      ]
    },
    {
      "cell_type": "code",
      "execution_count": null,
      "metadata": {
        "id": "CtOFuaI8gVdI"
      },
      "outputs": [],
      "source": [
        "average_monthly_income_city = df.groupBy(\"Store\", \"Month\").agg(avg(\"Revenue\").alias(\"Average_Monthly_Income_City\"))"
      ]
    },
    {
      "cell_type": "markdown",
      "metadata": {
        "id": "Ph4SHTwSgVdJ"
      },
      "source": [
        "# 3. Total revenue per city per year"
      ]
    },
    {
      "cell_type": "code",
      "execution_count": null,
      "metadata": {
        "id": "zL0mjrNigVdJ"
      },
      "outputs": [],
      "source": [
        "total_revenue_city_year = df.groupBy(\"Store\").agg(sum(\"Revenue\").alias(\"Total_Revenue_City_Year\"))"
      ]
    },
    {
      "cell_type": "markdown",
      "metadata": {
        "id": "aMCtkq4hgVdJ"
      },
      "source": [
        "# 4. Total revenue per store per year"
      ]
    },
    {
      "cell_type": "code",
      "execution_count": null,
      "metadata": {
        "id": "EthKx1PhgVdL"
      },
      "outputs": [],
      "source": [
        "total_revenue_store_year = df.groupBy(\"Store\").agg(sum(\"Revenue\").alias(\"Total_Revenue_Store_Year\"))"
      ]
    },
    {
      "cell_type": "markdown",
      "metadata": {
        "id": "KHH8---CgVdM"
      },
      "source": [
        "# 5. The store that achieves the best performance in each month"
      ]
    },
    {
      "cell_type": "code",
      "execution_count": null,
      "metadata": {
        "id": "KTMPSfb-gVdM"
      },
      "outputs": [],
      "source": [
        "max_revenue_monthly = df.groupBy(\"Month\").agg(max(\"Revenue\").alias(\"Max_Revenue\"))"
      ]
    },
    {
      "cell_type": "code",
      "execution_count": null,
      "metadata": {
        "id": "rPHSZgavgVdN"
      },
      "outputs": [],
      "source": [
        "\n",
        "best_performance_store_monthly = max_revenue_monthly.alias(\"max_rev\").join(\n",
        "    df.alias(\"data\"),\n",
        "    (col(\"data.Revenue\") == col(\"max_rev.Max_Revenue\")) & (col(\"data.Month\") == col(\"max_rev.Month\")),\n",
        "    \"inner\"\n",
        ").select(col(\"data.Month\"), col(\"data.Store\"), col(\"data.Revenue\")).distinct()"
      ]
    },
    {
      "cell_type": "markdown",
      "metadata": {
        "id": "IL7aXdHKgVdO"
      },
      "source": [
        "# results"
      ]
    },
    {
      "cell_type": "code",
      "execution_count": null,
      "metadata": {
        "id": "-IhLv12jgVdO",
        "outputId": "63dc95c2-f441-470c-fab8-4e91a465de6f"
      },
      "outputs": [
        {
          "name": "stdout",
          "output_type": "stream",
          "text": [
            "+-----+-----------------------------+\n",
            "|Month|Average_Monthly_Income_France|\n",
            "+-----+-----------------------------+\n",
            "|  APR|            20.23076923076923|\n",
            "|  OCT|            26.53846153846154|\n",
            "|  NOV|            24.53846153846154|\n",
            "|  FEB|           19.153846153846153|\n",
            "|  SEP|            25.53846153846154|\n",
            "|  JAN|            20.76923076923077|\n",
            "|  AUG|           23.076923076923077|\n",
            "|  MAR|            17.53846153846154|\n",
            "|  DEC|                         29.0|\n",
            "|  JUN|           27.846153846153847|\n",
            "|  JUL|           21.692307692307693|\n",
            "|  MAY|            22.46153846153846|\n",
            "+-----+-----------------------------+\n",
            "\n",
            "+-----+-----+---------------------------+\n",
            "|Store|Month|Average_Monthly_Income_City|\n",
            "+-----+-----+---------------------------+\n",
            "|anger|  JAN|                       13.0|\n",
            "|anger|  MAY|                       12.0|\n",
            "|anger|  AUG|                       15.0|\n",
            "|anger|  JUL|                       19.0|\n",
            "|anger|  FEB|                       12.0|\n",
            "|anger|  MAR|                       14.0|\n",
            "|anger|  NOV|                       14.0|\n",
            "|anger|  JUN|                       15.0|\n",
            "|anger|  DEC|                       16.0|\n",
            "|anger|  OCT|                        8.0|\n",
            "|anger|  SEP|                       13.0|\n",
            "|anger|  APR|                       15.0|\n",
            "| lyon|  MAR|                       14.0|\n",
            "| lyon|  APR|                       15.0|\n",
            "| lyon|  JUL|                       19.0|\n",
            "| lyon|  AUG|                       25.0|\n",
            "| lyon|  MAY|                       12.0|\n",
            "| lyon|  FEB|                       12.0|\n",
            "| lyon|  NOV|                       22.0|\n",
            "| lyon|  OCT|                       11.0|\n",
            "+-----+-----+---------------------------+\n",
            "only showing top 20 rows\n",
            "\n",
            "+------------+-----------------------+\n",
            "|       Store|Total_Revenue_City_Year|\n",
            "+------------+-----------------------+\n",
            "|       anger|                  166.0|\n",
            "|        lyon|                  193.0|\n",
            "|        nice|                  203.0|\n",
            "|      orlean|                  196.0|\n",
            "|     paris_1|                  596.0|\n",
            "|     paris_2|                  642.0|\n",
            "|     paris_3|                  330.0|\n",
            "|      rennes|                  180.0|\n",
            "|    toulouse|                  177.0|\n",
            "|      troyes|                  214.0|\n",
            "|marseilles_1|                  284.0|\n",
            "|marseilles_2|                  231.0|\n",
            "|      nantes|                  207.0|\n",
            "+------------+-----------------------+\n",
            "\n",
            "+------------+------------------------+\n",
            "|       Store|Total_Revenue_Store_Year|\n",
            "+------------+------------------------+\n",
            "|       anger|                   166.0|\n",
            "|        lyon|                   193.0|\n",
            "|        nice|                   203.0|\n",
            "|      orlean|                   196.0|\n",
            "|     paris_1|                   596.0|\n",
            "|     paris_2|                   642.0|\n",
            "|     paris_3|                   330.0|\n",
            "|      rennes|                   180.0|\n",
            "|    toulouse|                   177.0|\n",
            "|      troyes|                   214.0|\n",
            "|marseilles_1|                   284.0|\n",
            "|marseilles_2|                   231.0|\n",
            "|      nantes|                   207.0|\n",
            "+------------+------------------------+\n",
            "\n",
            "+-----+-------+-------+\n",
            "|Month|  Store|Revenue|\n",
            "+-----+-------+-------+\n",
            "|  APR|paris_1|   57.0|\n",
            "|  OCT|paris_1|   68.0|\n",
            "|  NOV|paris_2|   64.0|\n",
            "|  FEB|paris_2|   42.0|\n",
            "|  SEP|paris_2|   63.0|\n",
            "|  JAN|paris_1|   51.0|\n",
            "|  AUG|paris_2|   45.0|\n",
            "|  MAR|paris_2|   44.0|\n",
            "|  DEC|paris_1|   71.0|\n",
            "|  JUN|paris_2|   85.0|\n",
            "|  JUL|paris_1|   61.0|\n",
            "|  MAY|paris_2|   72.0|\n",
            "+-----+-------+-------+\n",
            "\n"
          ]
        }
      ],
      "source": [
        "average_monthly_income_france.show()\n",
        "average_monthly_income_city.show()\n",
        "total_revenue_city_year.show()\n",
        "total_revenue_store_year.show()\n",
        "best_performance_store_monthly.show()\n"
      ]
    },
    {
      "cell_type": "code",
      "execution_count": null,
      "metadata": {
        "id": "zYPa2o4IgVdP"
      },
      "outputs": [],
      "source": [
        "spark.stop()"
      ]
    }
  ],
  "metadata": {
    "language_info": {
      "name": "python"
    },
    "colab": {
      "provenance": []
    }
  },
  "nbformat": 4,
  "nbformat_minor": 0
}