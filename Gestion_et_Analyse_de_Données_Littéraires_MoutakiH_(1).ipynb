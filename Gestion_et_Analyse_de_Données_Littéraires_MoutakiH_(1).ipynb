{
  "nbformat": 4,
  "nbformat_minor": 0,
  "metadata": {
    "colab": {
      "provenance": []
    },
    "kernelspec": {
      "name": "python3",
      "display_name": "Python 3"
    },
    "language_info": {
      "name": "python"
    }
  },
  "cells": [
    {
      "cell_type": "markdown",
      "source": [
        "Projet: Ce projet propose une plateforme interactive pour explorer et analyser des données liées aux livres, auteurs et éditeurs. À partir de fichiers CSV, les données sont chargées, converties et filtrées selon des critères spécifiques (livres populaires, auteurs décédés, éditeurs français, etc.).\n",
        "\n",
        "L'application inclut un menu utilisateur interactif offrant des fonctionnalités comme la recherche d'informations détaillées sur un livre, un auteur ou un éditeur, et l'affichage de statistiques globales :\n",
        "\n",
        "Nombre total de livres, auteurs et éditeurs.\n",
        "Évaluation moyenne des livres, ancienneté moyenne des éditeurs et âge moyen des auteurs décédés.\n",
        "Classification des livres selon leur popularité, ancienneté ou longueur.\n",
        "Ce projet met en œuvre des concepts fondamentaux de traitement de données en Python, combinant la gestion des données avec une interface utilisateur intuitive.\n",
        "\n"
      ],
      "metadata": {
        "id": "KNH0vMNHxdwa"
      }
    },
    {
      "cell_type": "code",
      "execution_count": null,
      "metadata": {
        "colab": {
          "base_uri": "https://localhost:8080/"
        },
        "id": "Ah7s7JLUxdDh",
        "outputId": "66c9559a-5f07-485d-fb6d-5fa24b191f62"
      },
      "outputs": [
        {
          "output_type": "stream",
          "name": "stdout",
          "text": [
            "Requirement already satisfied: Faker in /usr/local/lib/python3.10/dist-packages (22.0.0)\n",
            "Requirement already satisfied: python-dateutil>=2.4 in /usr/local/lib/python3.10/dist-packages (from Faker) (2.8.2)\n",
            "Requirement already satisfied: six>=1.5 in /usr/local/lib/python3.10/dist-packages (from python-dateutil>=2.4->Faker) (1.16.0)\n"
          ]
        }
      ],
      "source": [
        "!pip install Faker # installation de Faker sur votre noyau Python\n",
        "from faker import Faker # import de Faker dans votre notebook\n",
        "fake = Faker() # définition de la base de données\n",
        "Faker().seed_instance(10000) # génération aléatoire de données"
      ]
    },
    {
      "cell_type": "markdown",
      "source": [
        "En se basant sur la documentation de Faker, coder une fonction qui génère un dictionnaire répondant\n",
        "aux exigences ci-dessous :\n",
        "1. Contient des noms (dans une clé spécifique)\n",
        "2. Contient des prénoms (dans une clé spécifique)\n",
        "3. Contient l’âge (dans une clé spécifique)\n",
        "4. Contient des adresses postales dont le nom de villes commence par la lettre B uniquement\n",
        "(dans une clé spécifique)\n",
        "5. Contient des numéros de téléphone en « 07 » uniquement et ce, peu importe qu’un indicatif\n",
        "téléphonique soit présent ou non (dans une clé spécifique)\n",
        "6. Prend en arguments (du dictionnaire) : le nombre de lignes, la langue de génération de\n",
        "données."
      ],
      "metadata": {
        "id": "ZOVREBrsyEDN"
      }
    },
    {
      "cell_type": "code",
      "source": [
        "from faker import Faker\n",
        "\n",
        "def Dictionnaire(nombre_lignes, langue='en_US'):\n",
        "    fake = Faker(langue)\n",
        "\n",
        "    # Initialiser les listes en dehors de la boucle for\n",
        "    noms = []\n",
        "    prenoms = []\n",
        "    ages = []\n",
        "    Adresses_Postales_B = []\n",
        "    numero_telephone_07 = []\n",
        "\n",
        "    for i in range(nombre_lignes):\n",
        "        dict_Dictionnaire = {\n",
        "            'noms': fake.last_name(),\n",
        "            'prenoms': fake.first_name(),\n",
        "            'ages': fake.random_int(18, 122),\n",
        "            'Adresses_Postales_B': fake.address().splitlines()[0],\n",
        "            'numero_telephone_07': fake.phone_number().replace(' ', '')   }\n",
        "\n",
        "\n",
        "        while not dict_Dictionnaire['Adresses_Postales_B'].split(' ')[-1].startswith('B'):\n",
        "            dict_Dictionnaire['Adresses_Postales_B'] = fake.address().splitlines()[0]\n",
        "\n",
        "\n",
        "        while not dict_Dictionnaire['numero_telephone_07'].startswith('07'):\n",
        "            dict_Dictionnaire['numero_telephone_07'] = fake.phone_number().replace(' ', '')\n",
        "\n",
        "        Dictionnaire.append(dict_Dictionnaire)\n",
        "\n",
        "    return Dictionnaire\n",
        "\n",
        "\n",
        "A = Dictionnaire(nombre_lignes=10, langue='en_US')\n",
        "for i in A :\n",
        "  print(i)"
      ],
      "metadata": {
        "colab": {
          "base_uri": "https://localhost:8080/",
          "height": 390
        },
        "id": "l-lGI9cUyGOk",
        "outputId": "4934d9ac-3471-4cec-f124-17bd65712abd"
      },
      "execution_count": null,
      "outputs": [
        {
          "output_type": "error",
          "ename": "KeyboardInterrupt",
          "evalue": "ignored",
          "traceback": [
            "\u001b[0;31m---------------------------------------------------------------------------\u001b[0m",
            "\u001b[0;31mKeyboardInterrupt\u001b[0m                         Traceback (most recent call last)",
            "\u001b[0;32m<ipython-input-8-abf9af5fdc0d>\u001b[0m in \u001b[0;36m<cell line: 34>\u001b[0;34m()\u001b[0m\n\u001b[1;32m     32\u001b[0m \u001b[0;34m\u001b[0m\u001b[0m\n\u001b[1;32m     33\u001b[0m \u001b[0;34m\u001b[0m\u001b[0m\n\u001b[0;32m---> 34\u001b[0;31m \u001b[0mA\u001b[0m \u001b[0;34m=\u001b[0m \u001b[0mDictionnaire\u001b[0m\u001b[0;34m(\u001b[0m\u001b[0mnombre_lignes\u001b[0m\u001b[0;34m=\u001b[0m\u001b[0;36m10\u001b[0m\u001b[0;34m,\u001b[0m \u001b[0mlangue\u001b[0m\u001b[0;34m=\u001b[0m\u001b[0;34m'en_US'\u001b[0m\u001b[0;34m)\u001b[0m\u001b[0;34m\u001b[0m\u001b[0;34m\u001b[0m\u001b[0m\n\u001b[0m\u001b[1;32m     35\u001b[0m \u001b[0;32mfor\u001b[0m \u001b[0mi\u001b[0m \u001b[0;32min\u001b[0m \u001b[0mA\u001b[0m \u001b[0;34m:\u001b[0m\u001b[0;34m\u001b[0m\u001b[0;34m\u001b[0m\u001b[0m\n\u001b[1;32m     36\u001b[0m   \u001b[0mprint\u001b[0m\u001b[0;34m(\u001b[0m\u001b[0mi\u001b[0m\u001b[0;34m)\u001b[0m\u001b[0;34m\u001b[0m\u001b[0;34m\u001b[0m\u001b[0m\n",
            "\u001b[0;32m<ipython-input-8-abf9af5fdc0d>\u001b[0m in \u001b[0;36mDictionnaire\u001b[0;34m(nombre_lignes, langue)\u001b[0m\n\u001b[1;32m     25\u001b[0m \u001b[0;34m\u001b[0m\u001b[0m\n\u001b[1;32m     26\u001b[0m         \u001b[0;32mwhile\u001b[0m \u001b[0;32mnot\u001b[0m \u001b[0mdict_Dictionnaire\u001b[0m\u001b[0;34m[\u001b[0m\u001b[0;34m'numero_telephone_07'\u001b[0m\u001b[0;34m]\u001b[0m\u001b[0;34m.\u001b[0m\u001b[0mstartswith\u001b[0m\u001b[0;34m(\u001b[0m\u001b[0;34m'07'\u001b[0m\u001b[0;34m)\u001b[0m\u001b[0;34m:\u001b[0m\u001b[0;34m\u001b[0m\u001b[0;34m\u001b[0m\u001b[0m\n\u001b[0;32m---> 27\u001b[0;31m             \u001b[0mdict_Dictionnaire\u001b[0m\u001b[0;34m[\u001b[0m\u001b[0;34m'numero_telephone_07'\u001b[0m\u001b[0;34m]\u001b[0m \u001b[0;34m=\u001b[0m \u001b[0mfake\u001b[0m\u001b[0;34m.\u001b[0m\u001b[0mphone_number\u001b[0m\u001b[0;34m(\u001b[0m\u001b[0;34m)\u001b[0m\u001b[0;34m.\u001b[0m\u001b[0mreplace\u001b[0m\u001b[0;34m(\u001b[0m\u001b[0;34m' '\u001b[0m\u001b[0;34m,\u001b[0m \u001b[0;34m''\u001b[0m\u001b[0;34m)\u001b[0m\u001b[0;34m\u001b[0m\u001b[0;34m\u001b[0m\u001b[0m\n\u001b[0m\u001b[1;32m     28\u001b[0m \u001b[0;34m\u001b[0m\u001b[0m\n\u001b[1;32m     29\u001b[0m         \u001b[0mDictionnaire\u001b[0m\u001b[0;34m.\u001b[0m\u001b[0mappend\u001b[0m\u001b[0;34m(\u001b[0m\u001b[0mdict_Dictionnaire\u001b[0m\u001b[0;34m)\u001b[0m\u001b[0;34m\u001b[0m\u001b[0;34m\u001b[0m\u001b[0m\n",
            "\u001b[0;32m/usr/local/lib/python3.10/dist-packages/faker/providers/phone_number/__init__.py\u001b[0m in \u001b[0;36mphone_number\u001b[0;34m(self)\u001b[0m\n\u001b[1;32m    322\u001b[0m \u001b[0;34m\u001b[0m\u001b[0m\n\u001b[1;32m    323\u001b[0m     \u001b[0;32mdef\u001b[0m \u001b[0mphone_number\u001b[0m\u001b[0;34m(\u001b[0m\u001b[0mself\u001b[0m\u001b[0;34m)\u001b[0m \u001b[0;34m->\u001b[0m \u001b[0mstr\u001b[0m\u001b[0;34m:\u001b[0m\u001b[0;34m\u001b[0m\u001b[0;34m\u001b[0m\u001b[0m\n\u001b[0;32m--> 324\u001b[0;31m         \u001b[0;32mreturn\u001b[0m \u001b[0mself\u001b[0m\u001b[0;34m.\u001b[0m\u001b[0mnumerify\u001b[0m\u001b[0;34m(\u001b[0m\u001b[0mself\u001b[0m\u001b[0;34m.\u001b[0m\u001b[0mrandom_element\u001b[0m\u001b[0;34m(\u001b[0m\u001b[0mself\u001b[0m\u001b[0;34m.\u001b[0m\u001b[0mformats\u001b[0m\u001b[0;34m)\u001b[0m\u001b[0;34m)\u001b[0m\u001b[0;34m\u001b[0m\u001b[0;34m\u001b[0m\u001b[0m\n\u001b[0m\u001b[1;32m    325\u001b[0m \u001b[0;34m\u001b[0m\u001b[0m\n\u001b[1;32m    326\u001b[0m     \u001b[0;32mdef\u001b[0m \u001b[0mcountry_calling_code\u001b[0m\u001b[0;34m(\u001b[0m\u001b[0mself\u001b[0m\u001b[0;34m)\u001b[0m \u001b[0;34m->\u001b[0m \u001b[0mstr\u001b[0m\u001b[0;34m:\u001b[0m\u001b[0;34m\u001b[0m\u001b[0;34m\u001b[0m\u001b[0m\n",
            "\u001b[0;32m/usr/local/lib/python3.10/dist-packages/faker/providers/__init__.py\u001b[0m in \u001b[0;36mnumerify\u001b[0;34m(self, text)\u001b[0m\n\u001b[1;32m    624\u001b[0m         \u001b[0;34m:\u001b[0m\u001b[0msample\u001b[0m\u001b[0;34m:\u001b[0m \u001b[0mtext\u001b[0m\u001b[0;34m=\u001b[0m\u001b[0;34m'!!! !!@ !@! !@@ @!! @!@ @@! @@@'\u001b[0m\u001b[0;34m\u001b[0m\u001b[0;34m\u001b[0m\u001b[0m\n\u001b[1;32m    625\u001b[0m         \"\"\"\n\u001b[0;32m--> 626\u001b[0;31m         \u001b[0mtext\u001b[0m \u001b[0;34m=\u001b[0m \u001b[0m_re_hash\u001b[0m\u001b[0;34m.\u001b[0m\u001b[0msub\u001b[0m\u001b[0;34m(\u001b[0m\u001b[0;32mlambda\u001b[0m \u001b[0mx\u001b[0m\u001b[0;34m:\u001b[0m \u001b[0mstr\u001b[0m\u001b[0;34m(\u001b[0m\u001b[0mself\u001b[0m\u001b[0;34m.\u001b[0m\u001b[0mrandom_digit\u001b[0m\u001b[0;34m(\u001b[0m\u001b[0;34m)\u001b[0m\u001b[0;34m)\u001b[0m\u001b[0;34m,\u001b[0m \u001b[0mtext\u001b[0m\u001b[0;34m)\u001b[0m\u001b[0;34m\u001b[0m\u001b[0;34m\u001b[0m\u001b[0m\n\u001b[0m\u001b[1;32m    627\u001b[0m         \u001b[0mtext\u001b[0m \u001b[0;34m=\u001b[0m \u001b[0m_re_perc\u001b[0m\u001b[0;34m.\u001b[0m\u001b[0msub\u001b[0m\u001b[0;34m(\u001b[0m\u001b[0;32mlambda\u001b[0m \u001b[0mx\u001b[0m\u001b[0;34m:\u001b[0m \u001b[0mstr\u001b[0m\u001b[0;34m(\u001b[0m\u001b[0mself\u001b[0m\u001b[0;34m.\u001b[0m\u001b[0mrandom_digit_not_null\u001b[0m\u001b[0;34m(\u001b[0m\u001b[0;34m)\u001b[0m\u001b[0;34m)\u001b[0m\u001b[0;34m,\u001b[0m \u001b[0mtext\u001b[0m\u001b[0;34m)\u001b[0m\u001b[0;34m\u001b[0m\u001b[0;34m\u001b[0m\u001b[0m\n\u001b[1;32m    628\u001b[0m         \u001b[0mtext\u001b[0m \u001b[0;34m=\u001b[0m \u001b[0m_re_dol\u001b[0m\u001b[0;34m.\u001b[0m\u001b[0msub\u001b[0m\u001b[0;34m(\u001b[0m\u001b[0;32mlambda\u001b[0m \u001b[0mx\u001b[0m\u001b[0;34m:\u001b[0m \u001b[0mstr\u001b[0m\u001b[0;34m(\u001b[0m\u001b[0mself\u001b[0m\u001b[0;34m.\u001b[0m\u001b[0mrandom_digit_above_two\u001b[0m\u001b[0;34m(\u001b[0m\u001b[0;34m)\u001b[0m\u001b[0;34m)\u001b[0m\u001b[0;34m,\u001b[0m \u001b[0mtext\u001b[0m\u001b[0;34m)\u001b[0m\u001b[0;34m\u001b[0m\u001b[0;34m\u001b[0m\u001b[0m\n",
            "\u001b[0;32m/usr/local/lib/python3.10/dist-packages/faker/providers/__init__.py\u001b[0m in \u001b[0;36m<lambda>\u001b[0;34m(x)\u001b[0m\n\u001b[1;32m    624\u001b[0m         \u001b[0;34m:\u001b[0m\u001b[0msample\u001b[0m\u001b[0;34m:\u001b[0m \u001b[0mtext\u001b[0m\u001b[0;34m=\u001b[0m\u001b[0;34m'!!! !!@ !@! !@@ @!! @!@ @@! @@@'\u001b[0m\u001b[0;34m\u001b[0m\u001b[0;34m\u001b[0m\u001b[0m\n\u001b[1;32m    625\u001b[0m         \"\"\"\n\u001b[0;32m--> 626\u001b[0;31m         \u001b[0mtext\u001b[0m \u001b[0;34m=\u001b[0m \u001b[0m_re_hash\u001b[0m\u001b[0;34m.\u001b[0m\u001b[0msub\u001b[0m\u001b[0;34m(\u001b[0m\u001b[0;32mlambda\u001b[0m \u001b[0mx\u001b[0m\u001b[0;34m:\u001b[0m \u001b[0mstr\u001b[0m\u001b[0;34m(\u001b[0m\u001b[0mself\u001b[0m\u001b[0;34m.\u001b[0m\u001b[0mrandom_digit\u001b[0m\u001b[0;34m(\u001b[0m\u001b[0;34m)\u001b[0m\u001b[0;34m)\u001b[0m\u001b[0;34m,\u001b[0m \u001b[0mtext\u001b[0m\u001b[0;34m)\u001b[0m\u001b[0;34m\u001b[0m\u001b[0;34m\u001b[0m\u001b[0m\n\u001b[0m\u001b[1;32m    627\u001b[0m         \u001b[0mtext\u001b[0m \u001b[0;34m=\u001b[0m \u001b[0m_re_perc\u001b[0m\u001b[0;34m.\u001b[0m\u001b[0msub\u001b[0m\u001b[0;34m(\u001b[0m\u001b[0;32mlambda\u001b[0m \u001b[0mx\u001b[0m\u001b[0;34m:\u001b[0m \u001b[0mstr\u001b[0m\u001b[0;34m(\u001b[0m\u001b[0mself\u001b[0m\u001b[0;34m.\u001b[0m\u001b[0mrandom_digit_not_null\u001b[0m\u001b[0;34m(\u001b[0m\u001b[0;34m)\u001b[0m\u001b[0;34m)\u001b[0m\u001b[0;34m,\u001b[0m \u001b[0mtext\u001b[0m\u001b[0;34m)\u001b[0m\u001b[0;34m\u001b[0m\u001b[0;34m\u001b[0m\u001b[0m\n\u001b[1;32m    628\u001b[0m         \u001b[0mtext\u001b[0m \u001b[0;34m=\u001b[0m \u001b[0m_re_dol\u001b[0m\u001b[0;34m.\u001b[0m\u001b[0msub\u001b[0m\u001b[0;34m(\u001b[0m\u001b[0;32mlambda\u001b[0m \u001b[0mx\u001b[0m\u001b[0;34m:\u001b[0m \u001b[0mstr\u001b[0m\u001b[0;34m(\u001b[0m\u001b[0mself\u001b[0m\u001b[0;34m.\u001b[0m\u001b[0mrandom_digit_above_two\u001b[0m\u001b[0;34m(\u001b[0m\u001b[0;34m)\u001b[0m\u001b[0;34m)\u001b[0m\u001b[0;34m,\u001b[0m \u001b[0mtext\u001b[0m\u001b[0;34m)\u001b[0m\u001b[0;34m\u001b[0m\u001b[0;34m\u001b[0m\u001b[0m\n",
            "\u001b[0;32m/usr/local/lib/python3.10/dist-packages/faker/providers/__init__.py\u001b[0m in \u001b[0;36mrandom_digit\u001b[0;34m(self)\u001b[0m\n\u001b[1;32m    321\u001b[0m         \u001b[0;34m\"\"\"Generate a random digit (0 to 9).\"\"\"\u001b[0m\u001b[0;34m\u001b[0m\u001b[0;34m\u001b[0m\u001b[0m\n\u001b[1;32m    322\u001b[0m \u001b[0;34m\u001b[0m\u001b[0m\n\u001b[0;32m--> 323\u001b[0;31m         \u001b[0;32mreturn\u001b[0m \u001b[0mself\u001b[0m\u001b[0;34m.\u001b[0m\u001b[0mgenerator\u001b[0m\u001b[0;34m.\u001b[0m\u001b[0mrandom\u001b[0m\u001b[0;34m.\u001b[0m\u001b[0mrandint\u001b[0m\u001b[0;34m(\u001b[0m\u001b[0;36m0\u001b[0m\u001b[0;34m,\u001b[0m \u001b[0;36m9\u001b[0m\u001b[0;34m)\u001b[0m\u001b[0;34m\u001b[0m\u001b[0;34m\u001b[0m\u001b[0m\n\u001b[0m\u001b[1;32m    324\u001b[0m \u001b[0;34m\u001b[0m\u001b[0m\n\u001b[1;32m    325\u001b[0m     \u001b[0;32mdef\u001b[0m \u001b[0mrandom_digit_not_null\u001b[0m\u001b[0;34m(\u001b[0m\u001b[0mself\u001b[0m\u001b[0;34m)\u001b[0m \u001b[0;34m->\u001b[0m \u001b[0mint\u001b[0m\u001b[0;34m:\u001b[0m\u001b[0;34m\u001b[0m\u001b[0;34m\u001b[0m\u001b[0m\n",
            "\u001b[0;32m/usr/lib/python3.10/random.py\u001b[0m in \u001b[0;36mrandint\u001b[0;34m(self, a, b)\u001b[0m\n\u001b[1;32m    368\u001b[0m         \"\"\"\n\u001b[1;32m    369\u001b[0m \u001b[0;34m\u001b[0m\u001b[0m\n\u001b[0;32m--> 370\u001b[0;31m         \u001b[0;32mreturn\u001b[0m \u001b[0mself\u001b[0m\u001b[0;34m.\u001b[0m\u001b[0mrandrange\u001b[0m\u001b[0;34m(\u001b[0m\u001b[0ma\u001b[0m\u001b[0;34m,\u001b[0m \u001b[0mb\u001b[0m\u001b[0;34m+\u001b[0m\u001b[0;36m1\u001b[0m\u001b[0;34m)\u001b[0m\u001b[0;34m\u001b[0m\u001b[0;34m\u001b[0m\u001b[0m\n\u001b[0m\u001b[1;32m    371\u001b[0m \u001b[0;34m\u001b[0m\u001b[0m\n\u001b[1;32m    372\u001b[0m \u001b[0;34m\u001b[0m\u001b[0m\n",
            "\u001b[0;32m/usr/lib/python3.10/random.py\u001b[0m in \u001b[0;36mrandrange\u001b[0;34m(self, start, stop, step)\u001b[0m\n\u001b[1;32m    350\u001b[0m         \u001b[0;32mif\u001b[0m \u001b[0mistep\u001b[0m \u001b[0;34m==\u001b[0m \u001b[0;36m1\u001b[0m\u001b[0;34m:\u001b[0m\u001b[0;34m\u001b[0m\u001b[0;34m\u001b[0m\u001b[0m\n\u001b[1;32m    351\u001b[0m             \u001b[0;32mif\u001b[0m \u001b[0mwidth\u001b[0m \u001b[0;34m>\u001b[0m \u001b[0;36m0\u001b[0m\u001b[0;34m:\u001b[0m\u001b[0;34m\u001b[0m\u001b[0;34m\u001b[0m\u001b[0m\n\u001b[0;32m--> 352\u001b[0;31m                 \u001b[0;32mreturn\u001b[0m \u001b[0mistart\u001b[0m \u001b[0;34m+\u001b[0m \u001b[0mself\u001b[0m\u001b[0;34m.\u001b[0m\u001b[0m_randbelow\u001b[0m\u001b[0;34m(\u001b[0m\u001b[0mwidth\u001b[0m\u001b[0;34m)\u001b[0m\u001b[0;34m\u001b[0m\u001b[0;34m\u001b[0m\u001b[0m\n\u001b[0m\u001b[1;32m    353\u001b[0m             \u001b[0;32mraise\u001b[0m \u001b[0mValueError\u001b[0m\u001b[0;34m(\u001b[0m\u001b[0;34m\"empty range for randrange() (%d, %d, %d)\"\u001b[0m \u001b[0;34m%\u001b[0m \u001b[0;34m(\u001b[0m\u001b[0mistart\u001b[0m\u001b[0;34m,\u001b[0m \u001b[0mistop\u001b[0m\u001b[0;34m,\u001b[0m \u001b[0mwidth\u001b[0m\u001b[0;34m)\u001b[0m\u001b[0;34m)\u001b[0m\u001b[0;34m\u001b[0m\u001b[0;34m\u001b[0m\u001b[0m\n\u001b[1;32m    354\u001b[0m \u001b[0;34m\u001b[0m\u001b[0m\n",
            "\u001b[0;32m/usr/lib/python3.10/random.py\u001b[0m in \u001b[0;36m_randbelow_with_getrandbits\u001b[0;34m(self, n)\u001b[0m\n\u001b[1;32m    237\u001b[0m                 \u001b[0;32mbreak\u001b[0m\u001b[0;34m\u001b[0m\u001b[0;34m\u001b[0m\u001b[0m\n\u001b[1;32m    238\u001b[0m \u001b[0;34m\u001b[0m\u001b[0m\n\u001b[0;32m--> 239\u001b[0;31m     \u001b[0;32mdef\u001b[0m \u001b[0m_randbelow_with_getrandbits\u001b[0m\u001b[0;34m(\u001b[0m\u001b[0mself\u001b[0m\u001b[0;34m,\u001b[0m \u001b[0mn\u001b[0m\u001b[0;34m)\u001b[0m\u001b[0;34m:\u001b[0m\u001b[0;34m\u001b[0m\u001b[0;34m\u001b[0m\u001b[0m\n\u001b[0m\u001b[1;32m    240\u001b[0m         \u001b[0;34m\"Return a random int in the range [0,n).  Returns 0 if n==0.\"\u001b[0m\u001b[0;34m\u001b[0m\u001b[0;34m\u001b[0m\u001b[0m\n\u001b[1;32m    241\u001b[0m \u001b[0;34m\u001b[0m\u001b[0m\n",
            "\u001b[0;31mKeyboardInterrupt\u001b[0m: "
          ]
        }
      ]
    },
    {
      "cell_type": "code",
      "source": [
        "from faker import Faker\n",
        "\n",
        "def generer_dictionnaire(nombre_lignes, langue='en_US'):\n",
        "    fake = Faker(langue)\n",
        "\n",
        "    # Initialiser une liste en dehors de la boucle for\n",
        "    liste_dictionnaires = []\n",
        "\n",
        "    for _ in range(nombre_lignes):\n",
        "        dict_dictionnaire = {\n",
        "            'noms': fake.last_name(),\n",
        "            'prenoms': fake.first_name(),\n",
        "            'ages': fake.random_int(18, 122),\n",
        "            'Adresses_Postales_B': None,\n",
        "            'numero_telephone_07': None\n",
        "        }\n",
        "\n",
        "        # Générer une adresse postale commençant par 'B'\n",
        "        while dict_dictionnaire['Adresses_Postales_B'] is None or not dict_dictionnaire['Adresses_Postales_B'].split(' ')[-1].startswith('B'):\n",
        "            dict_dictionnaire['Adresses_Postales_B'] = fake.address().splitlines()[0]\n",
        "\n",
        "        # Générer un numéro de téléphone commençant par '07'\n",
        "        while dict_dictionnaire['numero_telephone_07'] is None or not dict_dictionnaire['numero_telephone_07'].startswith('07'):\n",
        "            dict_dictionnaire['numero_telephone_07'] = fake.phone_number().replace(' ', '')\n",
        "\n",
        "        # Ajouter le dictionnaire à la liste\n",
        "        liste_dictionnaires.append(dict_dictionnaire)\n",
        "\n",
        "    return liste_dictionnaires\n",
        "\n"
      ],
      "metadata": {
        "id": "1LWPljYh8xwm"
      },
      "execution_count": null,
      "outputs": []
    },
    {
      "cell_type": "code",
      "source": [
        "# Utilisation de la fonction avec 10 lignes de données\n",
        "resultat = generer_dictionnaire(nombre_lignes=10, langue='en_US')\n",
        "\n",
        "# Afficher le résultat\n",
        "for i in resultat:\n",
        "    print(i)"
      ],
      "metadata": {
        "id": "-unpq0XF9Hf7"
      },
      "execution_count": null,
      "outputs": []
    },
    {
      "cell_type": "markdown",
      "source": [
        "Partie B : Création de phrases (3 points)\n",
        "Utiliser la fonction créée en Partie A pour :\n",
        "1. Générer 1000 items (soit 1000 paires clés + valeurs), à l’aide de la fonction zip (tel que vu en\n",
        "cours dans la section 5.2.6).\n",
        "2. Afficher des phrases du type : « Victor HUGO habite au 4, rue Baudelaire 57410 Bezons. Il\n",
        "est joignable au + 59 7 52 78 01 ». Ainsi, le nom de famille devra nécessairement être en\n",
        "majuscule.\n",
        "3. Trier les phrases affichées par ordre alphabétique des clés du dictionnaire\n",
        "4. Sélectionner uniquement les personnes âgées entre 25 et 50 ans inclus"
      ],
      "metadata": {
        "id": "O18JPqGr9Q_q"
      }
    },
    {
      "cell_type": "code",
      "source": [
        "from faker import Faker\n",
        "\n",
        "Model_text = ['habite au', 'il est joignable au']\n",
        "\n",
        "def Dictionnaire(nombre_lignes, langue='fr_FR'):\n",
        "    fake = Faker(langue)\n",
        "\n",
        "    donnees = []\n",
        "\n",
        "    for _ in range(nombre_lignes):\n",
        "        dict_Dictionnaire = {\n",
        "            'noms': fake.last_name(),\n",
        "            'prenoms': fake.first_name(),\n",
        "            'ages': fake.random_int(18, 122),\n",
        "            'Adresses_Postales_B': fake.city(),\n",
        "            'numero_telephone_07': fake.phone_number().replace(' ', '')\n",
        "        }\n",
        "\n",
        "        while not dict_Dictionnaire['Adresses_Postales_B'].startswith('B'):\n",
        "            dict_Dictionnaire['Adresses_Postales_B'] = fake.city()\n",
        "\n",
        "        while not dict_Dictionnaire['numero_telephone_07'].startswith('07'):\n",
        "            dict_Dictionnaire['numero_telephone_07'] = fake.phone_number().replace(' ', '')\n",
        "\n",
        "        donnees.append(dict_Dictionnaire)\n",
        "\n",
        "    return donnees\n",
        "\n",
        "\n",
        "fake_data = Dictionnaire(nombre_lignes=1000, langue='fr_FR')\n",
        "\n",
        "\n",
        "sorted_data = sorted(fake_data, key=lambda x: x['noms'])\n",
        "\n",
        "for data in sorted_data:\n",
        "    if 25 < data['ages'] < 50:\n",
        "        nom_complet = data[\"noms\"].upper() + \" \" + data[\"prenoms\"]\n",
        "        adresse = data[\"Adresses_Postales_B\"]\n",
        "        téléphone = data['numero_telephone_07']\n",
        "\n",
        "\n",
        "        text_parts = zip(Model_text, [adresse, téléphone])\n",
        "        text = f\"{nom_complet} \"\n",
        "        for part1, part2 in text_parts:\n",
        "            text += f\"{part1} {part2}, \"\n",
        "        text = text.rstrip(', ')\n",
        "\n",
        "        print(text)"
      ],
      "metadata": {
        "id": "SrteZxZl9V1N"
      },
      "execution_count": null,
      "outputs": []
    },
    {
      "cell_type": "markdown",
      "source": [
        "Exercice 2 (12 points)\n",
        "Partie A : Traitement de fichiers texte (6 points)"
      ],
      "metadata": {
        "id": "_UOjNWdI-I9v"
      }
    },
    {
      "cell_type": "code",
      "source": [
        "import csv\n",
        "\n",
        "def read_csv(EXEMPLE):\n",
        "    try:\n",
        "        with open(EXEMPLE, 'r', encoding='utf-8') as file:\n",
        "            reader = csv.DictReader(file)\n",
        "            data = [row for row in reader]\n",
        "        return data\n",
        "    except FileNotFoundError:\n",
        "        print(f\"Le fichier '{EXEMPLE}' n'existe pas.\")\n",
        "    except csv.Error:\n",
        "        print(f\"Erreur lors de la lecture du fichier '{EXEMPLE}'. Assurez-vous que le format est correct.\")\n",
        "    except Exception as e:\n",
        "        print(f\"Une erreur s'est produite : {e}\")"
      ],
      "metadata": {
        "id": "Bb5R2YSG-PZ0"
      },
      "execution_count": null,
      "outputs": []
    },
    {
      "cell_type": "markdown",
      "source": [
        "2. Utiliser la fonction read_csv(filename) pour lire les trois fichiers CSV et stocker les listes\n",
        "de dictionnaires dans des variables globales nommées books, authors et publishers."
      ],
      "metadata": {
        "id": "_23UH1rRGDhY"
      }
    },
    {
      "cell_type": "code",
      "source": [
        "donnees_livres = read_csv('livres.csv')\n",
        "donnees_auteurs = read_csv('auteurs.csv')\n",
        "donnees_editeurs = read_csv('editeurs.csv')\n"
      ],
      "metadata": {
        "id": "RijX4RT-GHWc"
      },
      "execution_count": null,
      "outputs": []
    },
    {
      "cell_type": "markdown",
      "source": [
        "3. Définir une fonction convert_types(data, types) qui prend en paramètre une liste de\n",
        "dictionnaires data et un dictionnaire types qui associe à chaque clé de data le type de donnée souhaité\n",
        "(int, float, str ou None). La fonction doit convertir les valeurs de data selon les types indiqués\n",
        "dans types, en ignorant les clés qui ont la valeur None. La fonction doit gérer les éventuelles erreurs\n",
        "de conversion (valeur invalide, type inconnu, etc.) et afficher un message approprié en cas d'erreur.\n"
      ],
      "metadata": {
        "id": "BzwM_b15GONU"
      }
    },
    {
      "cell_type": "code",
      "source": [
        "def convert_types(data, types):\n",
        "    try:\n",
        "        for d in data:\n",
        "            for key, value in d.items():\n",
        "                if key in types and types[key] is not None:\n",
        "                    # Ignorer les clés avec la valeur None dans types\n",
        "                    data_type = types[key]\n",
        "                    if data_type == int:\n",
        "                        d[key] = int(value)\n",
        "                    elif data_type == float:\n",
        "                        d[key] = float(value)\n",
        "                    elif data_type == str:\n",
        "                        d[key] = str(value)\n",
        "                    else:\n",
        "                        raise ValueError(f\"Type inconnu pour la clé '{key}' : {data_type}\")\n",
        "\n",
        "    except ValueError as e:\n",
        "        print(f\"Erreur de conversion : {e}\")\n",
        "    except Exception as e:\n",
        "        print(f\"Une erreur s'est produite : {e}\")"
      ],
      "metadata": {
        "id": "vbgSju-6GP5T"
      },
      "execution_count": null,
      "outputs": []
    },
    {
      "cell_type": "markdown",
      "source": [
        "4. Utiliser la fonction convert_types(data, types) pour convertir les types de données des\n",
        "listes books, authors et publishers selon les types suivants :\n",
        "• Pour books : id → int, title → str, author_id → int, publisher_id → int,\n",
        "year → int, genre → str, pages → int, rating → float\n",
        "• Pour authors : id → int, name → str, country → str, born → int, died →\n",
        "int\n",
        "• Pour publishers : id → int, name → str, country → str, founded → int,\n",
        "owner → str"
      ],
      "metadata": {
        "id": "qCNVlFKYGjvD"
      }
    },
    {
      "cell_type": "code",
      "source": [
        "# Définir les types pour chaque liste\n",
        "types_books = {'id': int, 'title': str, 'author_id': int, 'publisher_id': int, 'year': int, 'genre': str, 'pages': int, 'rating': float}\n",
        "types_authors = {'id': int, 'name': str, 'country': str, 'born': int, 'died': int}\n",
        "types_publishers = {'id': int, 'name': str, 'country': str, 'founded': int, 'owner': str}\n",
        "\n",
        "# Utiliser la fonction convert_types pour chaque liste\n",
        "convert_types(books, types_books)\n",
        "convert_types(authors, types_authors)\n",
        "convert_types(publishers, types_publishers)\n",
        "\n",
        "# Afficher les données converties\n",
        "print(\"Books:\", books[:5])\n",
        "print(\"Authors:\", authors[:5])\n",
        "print(\"Publishers:\", publishers[:5])"
      ],
      "metadata": {
        "id": "ohIVpHywGmqp"
      },
      "execution_count": null,
      "outputs": []
    },
    {
      "cell_type": "markdown",
      "source": [
        "5. Définir une fonction filter_data(data, criteria) qui prend en paramètre une liste de\n",
        "dictionnaires data et un dictionnaire criteria qui associe à chaque clé de data une condition à vérifier\n",
        "(sous la forme d'une fonction lambda qui prend en paramètre une valeur et qui renvoie un booléen).\n",
        "La fonction doit renvoyer une nouvelle liste de dictionnaires, contenant uniquement les éléments de\n",
        "data qui vérifient toutes les conditions de criteria. La fonction doit gérer les éventuelles erreurs de\n",
        "filtrage (clé inexistante, condition invalide, etc.) et afficher un message approprié en cas d'erreur"
      ],
      "metadata": {
        "id": "rgwjxW5-GsOw"
      }
    },
    {
      "cell_type": "code",
      "source": [
        "def filter_data(data, criteria):\n",
        "    try:\n",
        "        # Vérifier que toutes les clés de criteria existent dans les dictionnaires de data\n",
        "        for key in criteria.keys():\n",
        "            if not all(key in d for d in data):\n",
        "                print(f\"Erreur de filtrage : La clé '{key}' n'existe pas dans toutes les entrées de données.\")\n",
        "                return []\n",
        "\n",
        "\n",
        "\n",
        "    except KeyError as e:\n",
        "        print(f\"Erreur de filtrage : {e}\")\n",
        "    except Exception as e:\n",
        "        print(f\"Une erreur s'est produite : {e}\")"
      ],
      "metadata": {
        "id": "JO-TnPe4GvQb"
      },
      "execution_count": null,
      "outputs": []
    },
    {
      "cell_type": "markdown",
      "source": [
        "6. Utiliser la fonction filter_data(data, criteria) pour créer les listes suivantes :\n",
        "• best_books : contient les livres dont le rating est supérieur ou égal à 4.5\n",
        "• old_books : contient les livres publiés avant 1950\n",
        "• long_books : contient les livres dont le nombre de pages est supérieur à la moyenne des\n",
        "pages de tous les livres\n",
        "• dead_authors : contient les auteurs qui sont décédés\n",
        "• french_publishers : contient les éditeurs dont le pays est la France"
      ],
      "metadata": {
        "id": "PzLMkHe0G3iV"
      }
    },
    {
      "cell_type": "code",
      "source": [
        "# Liste de dictionnaires simulée pour démonstration\n",
        "books = [\n",
        "    {'title': 'Book1', 'rating': 4.7, 'year': 2000, 'pages': 300},\n",
        "    {'title': 'Book2', 'rating': 3.8, 'year': 1955, 'pages': 150},\n",
        "    {'title': 'Book3', 'rating': 4.5, 'year': 1980, 'pages': 250},\n",
        "    # ...\n",
        "]\n",
        "\n",
        "authors = [\n",
        "    {'name': 'Author1', 'born': 1920, 'died': 1995},\n",
        "    {'name': 'Author2', 'born': 1975, 'died': None},\n",
        "    # ...\n",
        "]\n",
        "\n",
        "publishers = [\n",
        "    {'name': 'Publisher1', 'country': 'France'},\n",
        "    {'name': 'Publisher2', 'country': 'USA'},\n",
        "    # ...\n",
        "]\n",
        "\n",
        "# Fonction read_csv simulée\n",
        "def read_csv(filename):\n",
        "    # Implémentation simulée\n",
        "    pass\n",
        "\n",
        "# Fonction filter_data simulée\n",
        "def filter_data(data, criteria):\n",
        "    # Implémentation simulée\n",
        "    pass\n",
        "\n",
        "# Utiliser la fonction read_csv pour lire les fichiers CSV\n",
        "# books = read_csv('books.csv')\n",
        "# authors = read_csv('authors.csv')\n",
        "# publishers = read_csv('publishers.csv')\n",
        "\n",
        "# Définir les critères pour chaque liste\n",
        "best_books_criteria = {'rating': lambda x: x >= 4.5}\n",
        "old_books_criteria = {'year': lambda x: x < 1950}\n",
        "average_pages = sum(book['pages'] for book in books) / len(books)\n",
        "long_books_criteria = {'pages': lambda x: x > average_pages}\n",
        "dead_authors_criteria = {'died': lambda x: x is not None}\n",
        "french_publishers_criteria = {'country': lambda x: x.lower() == 'france'}\n",
        "\n",
        "# Appliquer les critères avec la fonction filter_data\n",
        "best_books = filter_data(books, best_books_criteria)\n",
        "old_books = filter_data(books, old_books_criteria)\n",
        "long_books = filter_data(books, long_books_criteria)\n",
        "dead_authors = filter_data(authors, dead_authors_criteria)\n",
        "french_publishers = filter_data(publishers, french_publishers_criteria)\n",
        "\n",
        "# Afficher les résultats\n",
        "print(\"Best Books:\", best_books)\n",
        "print(\"Old Books:\", old_books)\n",
        "print(\"Long Books:\", long_books)\n",
        "print(\"Dead Authors:\", dead_authors)\n",
        "print(\"French Publishers:\", french_publishers)"
      ],
      "metadata": {
        "id": "cZwFb5A2G4XO"
      },
      "execution_count": null,
      "outputs": []
    },
    {
      "cell_type": "markdown",
      "source": [
        "Partie B : Interactions avec l'utilisateur (6 points)\n",
        "1. Afficher un message de bienvenue et demander à l'utilisateur de saisir son nom. Stocker le nom de\n",
        "l'utilisateur dans une variable locale nommée user_name."
      ],
      "metadata": {
        "id": "Jn9QWtM2HJ3S"
      }
    },
    {
      "cell_type": "code",
      "source": [
        "\n",
        "print(\"Bienvenue !\")\n",
        "user_name = input(\"Veuillez saisir votre nom : \")\n",
        "print(\"Bonjour, \" + user_name + \"! Merci de rejoindre notre programme.\")"
      ],
      "metadata": {
        "id": "d4RycvdrHMFb"
      },
      "execution_count": null,
      "outputs": []
    },
    {
      "cell_type": "markdown",
      "source": [
        "2. Afficher un menu qui propose à l'utilisateur de choisir parmi les options suivantes :\n",
        "• 1 : Afficher les informations sur un livre\n",
        "• 2 : Afficher les informations sur un auteur\n",
        "• 3 : Afficher les informations sur un éditeur\n",
        "• 4 : Afficher les statistiques sur les livres, les auteurs et les éditeurs\n",
        "• 5 : Quitter le programme"
      ],
      "metadata": {
        "id": "vjvySGwBHUV2"
      }
    },
    {
      "cell_type": "code",
      "source": [
        "def afficher_menu():\n",
        "    print(\"Menu :\")\n",
        "    print(\"1 : Afficher les informations sur un livre\")\n",
        "    print(\"2 : Afficher les informations sur un auteur\")\n",
        "    print(\"3 : Afficher les informations sur un éditeur\")\n",
        "    print(\"4 : Afficher les statistiques sur les livres, les auteurs et les éditeurs\")\n",
        "    print(\"5 : Quitter le programme\")\n",
        "\n",
        "\n",
        "afficher_menu()\n",
        "choix_utilisateur = input(\"Veuillez choisir une option (1-5) : \")\n",
        "if choix_utilisateur == '1':\n",
        "    print(\"Vous avez choisi l'option 1 : Afficher les informations sur un livre\")\n",
        "elif choix_utilisateur == '2':\n",
        "    print(\"Vous avez choisi l'option 2 : Afficher les informations sur un auteur\")\n",
        "elif choix_utilisateur == '3':\n",
        "    print(\"Vous avez choisi l'option 3 : Afficher les informations sur un éditeur\")\n",
        "elif choix_utilisateur == '4':\n",
        "    print(\"Vous avez choisi l'option 4 : Afficher les statistiques\")\n",
        "elif choix_utilisateur == '5':\n",
        "    print(\"Vous avez choisi l'option 5 : Quitter le programme\")\n",
        "else:\n",
        "    print(\"Option invalide. Veuillez choisir une option de 1 à 5.\")"
      ],
      "metadata": {
        "id": "1gO3z5NDHWkS"
      },
      "execution_count": null,
      "outputs": []
    },
    {
      "cell_type": "markdown",
      "source": [
        "3. Demander à l'utilisateur de saisir le numéro de son choix et stocker la valeur dans une variable\n",
        "locale nommée user_choice. Vérifier que la valeur saisie est valide (un entier entre 1 et 5) et\n",
        "afficher un message d'erreur si ce n'est pas le cas."
      ],
      "metadata": {
        "id": "4IFCe15_HzqB"
      }
    },
    {
      "cell_type": "code",
      "source": [
        "user_choice = input(\"Veuillez saisir un numéro entre 1 et 5 : \")\n",
        "\n",
        "if user_choice.isdigit():\n",
        "    user_choice = int(user_choice)\n",
        "    if 1 <= user_choice <= 5:\n",
        "        print(\"Vous avez saisi :\", user_choice)\n",
        "    else:\n",
        "        print(\"Veuillez saisir un numéro entre 1 et 5.\")\n",
        "else:\n",
        "    print(\"Veuillez saisir un nombre entier.\")"
      ],
      "metadata": {
        "id": "U0WRn_NcH2on"
      },
      "execution_count": null,
      "outputs": []
    },
    {
      "cell_type": "markdown",
      "source": [
        "4. Si l'utilisateur a choisi l'option 1, demander à l'utilisateur de saisir le titre d'un livre et stocker la\n",
        "valeur dans une variable locale nommée book_title. Rechercher le livre correspondant dans la\n",
        "liste books et afficher les informations suivantes sur le livre :\n",
        "• Le titre, l'auteur, l'éditeur, l'année, le genre, le nombre de pages et le rating\n",
        "• Si le livre fait partie des listes best_books, old_books ou long_books, afficher un\n",
        "message indiquant cette appartenance\n",
        "• Si le livre n'existe pas dans la liste books, afficher un message d'erreur"
      ],
      "metadata": {
        "id": "WnYhbM6BH8Qq"
      }
    },
    {
      "cell_type": "code",
      "source": [
        "# dictionnaire imaginaire\n",
        "books = [\n",
        "    {'title': 'Livre1', 'author': 'Auteur1', 'publisher': 'Éditeur1', 'year': 2022, 'genre': 'Fantasy', 'pages': 300, 'rating': 4.2},\n",
        "    {'title': 'Livre2', 'author': 'Auteur2', 'publisher': 'Éditeur2', 'year': 2000, 'genre': 'Mystery', 'pages': 250, 'rating': 4.7},\n",
        "\n",
        "]\n",
        "\n",
        "# Demander à l'utilisateur de saisir le titre d'un livre\n",
        "book_title = input(\"Veuillez saisir le titre d'un livre : \")\n",
        "\n",
        "# Rechercher le livre correspondant dans la liste 'books'\n",
        "found_book = None\n",
        "for book in books:\n",
        "    if book['title'].lower() == book_title.lower():\n",
        "        found_book = book\n",
        "        break\n",
        "\n",
        "# Afficher les informations sur le livre\n",
        "if found_book:\n",
        "    print(\"Informations sur le livre :\")\n",
        "    print(f\"Titre : {found_book['title']}\")\n",
        "    print(f\"Auteur : {found_book['author']}\")\n",
        "    print(f\"Éditeur : {found_book['publisher']}\")\n",
        "    print(f\"Année : {found_book['year']}\")\n",
        "    print(f\"Genre : {found_book['genre']}\")\n",
        "    print(f\"Nombre de pages : {found_book['pages']}\")\n",
        "    print(f\"Rating : {found_book['rating']}\")\n",
        "\n",
        "    # Vérifier l'appartenance aux listes best_books, old_books ou long_books\n",
        "    if found_book in best_books:\n",
        "        print(\"Ce livre fait partie des meilleurs livres.\")\n",
        "    if found_book in old_books:\n",
        "        print(\"Ce livre a été publié avant 1950.\")\n",
        "    if found_book in long_books:\n",
        "        print(\"Ce livre a un nombre de pages supérieur à la moyenne.\")\n",
        "\n",
        "else:\n",
        "    print(f\"Le livre avec le titre '{book_title}' n'existe pas dans la liste des livres.\")"
      ],
      "metadata": {
        "id": "HYPO53VNIA_4"
      },
      "execution_count": null,
      "outputs": []
    },
    {
      "cell_type": "markdown",
      "source": [
        "5. Si l'utilisateur a choisi l'option 2, demander à l'utilisateur de saisir le nom d'un auteur et stocker la\n",
        "valeur dans une variable locale nommée author_name. Rechercher l'auteur correspondant dans la\n",
        "liste authors et afficher les informations suivantes sur l'auteur :\n",
        "• Le nom, le pays, l'année de naissance, l'année de décès (si applicable)\n",
        "• Le nombre de livres écrits par l'auteur et la liste des titres de ces livres\n",
        "• Si l'auteur fait partie de la liste dead_authors, afficher un message indiquant cette\n",
        "appartenance\n",
        "• Si l'auteur n'existe pas dans la liste authors, afficher un message d'erreur"
      ],
      "metadata": {
        "id": "KrW1VPMUIVmI"
      }
    },
    {
      "cell_type": "code",
      "source": [
        "# exemple authors\n",
        "authors = [\n",
        "    {'name': 'Auteur1', 'country': 'France', 'born': 1980, 'died': None},\n",
        "    {'name': 'Auteur2', 'country': 'USA', 'born': 1950, 'died': 2005},\n",
        "\n",
        "]\n",
        "\n",
        "# Demander à l'utilisateur de saisir le nom d'un auteur\n",
        "author_name = input(\"Veuillez saisir le nom d'un auteur : \")\n",
        "\n",
        "# Rechercher l'auteur correspondant dans la liste 'authors'\n",
        "found_author = None\n",
        "for author in authors:\n",
        "    if author['name'].lower() == author_name.lower():\n",
        "        found_author = author\n",
        "        break\n",
        "\n",
        "# Afficher les informations sur l'auteur\n",
        "if found_author:\n",
        "    print(\"Informations sur l'auteur :\")\n",
        "    print(f\"Nom : {found_author['name']}\")\n",
        "    print(f\"Pays : {found_author['country']}\")\n",
        "    print(f\"Année de naissance : {found_author['born']}\")\n",
        "\n",
        "    # Afficher l'année de décès si applicable\n",
        "    if found_author['died'] is not None:\n",
        "        print(f\"Année de décès : {found_author['died']}\")\n",
        "\n",
        "    # Compter le nombre de livres écrits par l'auteur\n",
        "    books_written = [book['title'] for book in books if book['author'] == found_author['name']]\n",
        "    print(f\"Nombre de livres écrits : {len(books_written)}\")\n",
        "\n",
        "    # Afficher la liste des titres des livres écrits par l'auteur\n",
        "    print(\"Liste des titres des livres écrits par l'auteur:\")\n",
        "    for book_title in books_written:\n",
        "        print(f\"- {book_title}\")\n",
        "\n",
        "    # Vérifier l'appartenance à la liste dead_authors\n",
        "    if found_author in dead_authors:\n",
        "        print(\"Cet auteur est décédé.\")\n",
        "\n",
        "else:\n",
        "    print(f\"L'auteur avec le nom '{author_name}' n'existe pas dans la liste des auteurs.\")"
      ],
      "metadata": {
        "id": "5WDQs0czIYR9"
      },
      "execution_count": null,
      "outputs": []
    },
    {
      "cell_type": "markdown",
      "source": [
        "6. Si l'utilisateur a choisi l'option 3, demander à l'utilisateur de saisir le nom d'un éditeur et stocker la\n",
        "valeur dans une variable locale nommée publisher_name. Rechercher l'éditeur correspondant\n",
        "dans la liste publishers et afficher les informations suivantes sur l'éditeur :\n",
        "• Le nom, le pays, l'année de fondation, le propriétaire\n",
        "• Le nombre de livres publiés par l'éditeur et la liste des titres de ces livres\n",
        "• Si l'éditeur fait partie de la liste french_publishers, afficher un message indiquant cette\n",
        "appartenance\n",
        "• Si l'éditeur n'existe pas dans la liste publishers, afficher un message d'erreur"
      ],
      "metadata": {
        "id": "jKDoIh_zIuhs"
      }
    },
    {
      "cell_type": "code",
      "source": [
        "# Pareil pour'publishers'\n",
        "publishers = [\n",
        "    {'name': 'Éditeur1', 'country': 'France', 'founded': 1990, 'owner': 'Propriétaire1'},\n",
        "    {'name': 'Éditeur2', 'country': 'USA', 'founded': 1985, 'owner': 'Propriétaire2'},\n",
        "\n",
        "]\n",
        "\n",
        "# Demander à l'utilisateur de saisir le nom d'un éditeur\n",
        "publisher_name = input(\"Veuillez saisir le nom d'un éditeur : \")\n",
        "\n",
        "# Rechercher l'éditeur correspondant dans la liste 'publishers'\n",
        "found_publisher = None\n",
        "for publisher in publishers:\n",
        "    if publisher['name'].lower() == publisher_name.lower():\n",
        "        found_publisher = publisher\n",
        "        break\n",
        "\n",
        "# Afficher les informations sur l'éditeur\n",
        "if found_publisher:\n",
        "    print(\"Informations sur l'éditeur :\")\n",
        "    print(f\"Nom : {found_publisher['name']}\")\n",
        "    print(f\"Pays : {found_publisher['country']}\")\n",
        "    print(f\"Année de fondation : {found_publisher['founded']}\")\n",
        "    print(f\"Propriétaire : {found_publisher['owner']}\")\n",
        "\n",
        "    # Compter le nombre de livres publiés par l'éditeur\n",
        "    books_published = [book['title'] for book in books if book['publisher'] == found_publisher['name']]\n",
        "    print(f\"Nombre de livres publiés : {len(books_published)}\")\n",
        "\n",
        "    # Afficher la liste des titres des livres publiés par l'éditeur\n",
        "    print(\"Liste des titres des livres publiés par l'éditeur:\")\n",
        "    for book_title in books_published:\n",
        "        print(f\"- {book_title}\")\n",
        "\n",
        "    # Vérifier l'appartenance à la liste french_publishers\n",
        "    if found_publisher in french_publishers:\n",
        "        print(\"Cet éditeur est français.\")\n",
        "\n",
        "else:\n",
        "    print(f\"L'éditeur avec le nom '{publisher_name}' n'existe pas dans la liste des éditeurs.\")"
      ],
      "metadata": {
        "id": "tij9ORluIwd7"
      },
      "execution_count": null,
      "outputs": []
    },
    {
      "cell_type": "markdown",
      "source": [
        "7. Si l'utilisateur a choisi l'option 4, afficher les statistiques suivantes sur les livres, les auteurs et les\n",
        "éditeurs :\n",
        "• Le nombre total de livres, d'auteurs et d'éditeurs\n",
        "• Le nombre et le pourcentage de livres, d'auteurs et d'éditeurs qui font partie des listes créées\n",
        "dans la partie 1\n",
        "• Le rating moyen, le nombre de pages moyen et l'année de publication moyenne des livres\n",
        "• L'âge moyen des auteurs (au moment de leur décès si applicable)\n",
        "• L'ancienneté moyenne des éditeurs"
      ],
      "metadata": {
        "id": "QYe3KNbXI_f0"
      }
    },
    {
      "cell_type": "code",
      "source": [
        "total_books = len(books)\n",
        "average_rating = sum(book['rating'] for book in books) / total_books if total_books > 0 else 0\n",
        "average_pages = sum(book['pages'] for book in books) / total_books if total_books > 0 else 0\n",
        "average_year = sum(book['year'] for book in books) / total_books if total_books > 0 else 0\n",
        "total_dead_authors = len(dead_authors)\n",
        "average_age_of_dead_authors = sum(author['died'] - author['born'] for author in dead_authors) / total_dead_authors if total_dead_authors > 0 else 0\n",
        "total_publishers = len(publishers)\n",
        "average_years_in_business = sum(2023 - publisher['founded'] for publisher in publishers) / total_publishers if total_publishers > 0 else 0\n",
        "\n",
        "\n",
        "print(f\"Statistiques sur les livres : {total_books} livres, Rating moyen : {average_rating:.2f}, Pages moyennes : {average_pages:.2f}, Année moyenne : {average_year:.2f}\")\n",
        "print(f\"Statistiques sur les auteurs : {total_dead_authors} auteurs décédés, Âge moyen des auteurs décédés : {average_age_of_dead_authors:.2f}\")\n",
        "print(f\"Statistiques sur les éditeurs : {total_publishers} éditeurs, Ancienneté moyenne : {average_years_in_business:.2f} ans\")"
      ],
      "metadata": {
        "id": "HDtlsm2oJAVP"
      },
      "execution_count": null,
      "outputs": []
    },
    {
      "cell_type": "markdown",
      "source": [
        "8. Si l'utilisateur a choisi l'option 5, afficher un message de remerciement et de fin du programme, en\n",
        "utilisant le nom de l'utilisateur."
      ],
      "metadata": {
        "id": "sJAJc3bMJPuL"
      }
    },
    {
      "cell_type": "code",
      "source": [
        "if user_choice == 5:\n",
        "    print(f\"Merci, {user_name} ! Au revoir.\")\n",
        "    break  # Terminer le programme"
      ],
      "metadata": {
        "id": "WFV6g1wMJQnU"
      },
      "execution_count": null,
      "outputs": []
    }
  ]
}