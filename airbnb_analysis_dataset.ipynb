{
  "metadata": {
    "kernelspec": {
      "language": "python",
      "display_name": "Python 3",
      "name": "python3"
    },
    "language_info": {
      "pygments_lexer": "ipython3",
      "nbconvert_exporter": "python",
      "version": "3.6.4",
      "file_extension": ".py",
      "codemirror_mode": {
        "name": "ipython",
        "version": 3
      },
      "name": "python",
      "mimetype": "text/x-python"
    },
    "kaggle": {
      "accelerator": "none",
      "dataSources": [
        {
          "sourceId": 2893866,
          "sourceType": "datasetVersion",
          "datasetId": 1772842
        }
      ],
      "dockerImageVersionId": 30260,
      "isInternetEnabled": false,
      "language": "python",
      "sourceType": "notebook",
      "isGpuEnabled": false
    },
    "colab": {
      "provenance": []
    }
  },
  "nbformat_minor": 0,
  "nbformat": 4,
  "cells": [
    {
      "cell_type": "markdown",
      "source": [
        "<a id='top'></a>\n",
        "<div class=\"list-group\" id=\"list-tab\" role=\"tablist\">\n",
        "<p style=\"background-color:#f44336;font-family:sans-serif;color:#ffffff;font-size:250%;text-align:center;border-radius:15px 15px;\">Airbnb 2016 Dataset </p>"
      ],
      "metadata": {
        "id": "m_EDXYycjwvz"
      }
    },
    {
      "cell_type": "markdown",
      "source": [
        "# Introduction 😃😃\n",
        "\n",
        "## Airbnb 2016 Dataset\n",
        "\n",
        "Since 2008, guests and hosts have used Airbnb to expand on traveling possibilities and present a more unique, personalized way of experiencing the world. Today, Airbnb became one of a kind service that is used and recognized by the whole world. Data analysis on millions of listings provided through Airbnb is a crucial factor for the company. These millions of listings generate a lot of data - data that can be analyzed and used for security, business decisions, understanding of customers' and providers' (hosts) behavior and performance on the platform, guiding marketing initiatives, implementation of innovative additional services and much more.\n",
        "\n",
        "\n",
        "## We have 3 Dataset.\n",
        "- 1- Full Project\n",
        "- 2- sheet_name = Calendar\n",
        "- 3- sheet_name = Reviews\n",
        "\n",
        "\n",
        "# Work plan ❤️\n",
        "\n",
        "- Analyze and explore data 🤝\n",
        "- Data Visualization 🤝\n",
        "\n",
        "\n",
        "### I will draw my own opinion"
      ],
      "metadata": {
        "id": "fFJlj0n3jwv3"
      }
    },
    {
      "cell_type": "code",
      "source": [
        "#Importing the basic librarires fot analysis\n",
        "\n",
        "import numpy as np\n",
        "import pandas as pd\n",
        "import seaborn as sns\n",
        "import matplotlib.pyplot as plt\n",
        "plt.style.use(\"ggplot\")  #using style ggplot\n",
        "\n",
        "%matplotlib inline\n",
        "from mpl_toolkits.mplot3d import Axes3D\n",
        "import datetime as dt\n",
        "import plotly.graph_objects as go\n",
        "import plotly.express as px\n",
        "\n",
        "from wordcloud import WordCloud, STOPWORDS\n",
        "import re\n",
        "import folium"
      ],
      "metadata": {
        "execution": {
          "iopub.status.busy": "2022-09-18T18:44:41.769663Z",
          "iopub.execute_input": "2022-09-18T18:44:41.770201Z",
          "iopub.status.idle": "2022-09-18T18:44:43.823218Z",
          "shell.execute_reply.started": "2022-09-18T18:44:41.770097Z",
          "shell.execute_reply": "2022-09-18T18:44:43.822117Z"
        },
        "trusted": true,
        "id": "ZMXJ-6y7jwv_"
      },
      "execution_count": null,
      "outputs": []
    },
    {
      "cell_type": "code",
      "source": [
        "#Importing the dataset\n",
        "\n",
        "df_calendar =pd.read_excel(\"../input/airbnb-listings-2016-dataset/Tableau Full Project.xlsx\",sheet_name=\"Calendar\")\n",
        "df_listins =pd.read_excel(\"../input/airbnb-listings-2016-dataset/Tableau Full Project.xlsx\",sheet_name=\"Listings\")\n",
        "df_reviews =pd.read_excel(\"../input/airbnb-listings-2016-dataset/Tableau Full Project.xlsx\",sheet_name=\"Reviews\")\n",
        "df =pd.read_excel(\"../input/airbnb-listings-2016-dataset/Tableau Full Project.xlsx\")\n"
      ],
      "metadata": {
        "execution": {
          "iopub.status.busy": "2022-09-18T18:44:58.16067Z",
          "iopub.execute_input": "2022-09-18T18:44:58.161087Z",
          "iopub.status.idle": "2022-09-18T18:46:59.551096Z",
          "shell.execute_reply.started": "2022-09-18T18:44:58.161054Z",
          "shell.execute_reply": "2022-09-18T18:46:59.549519Z"
        },
        "trusted": true,
        "id": "_p5aUKfCjwwC"
      },
      "execution_count": null,
      "outputs": []
    },
    {
      "cell_type": "code",
      "source": [
        "# # look the data set - Calender\n",
        "\n",
        "df_calendar.head()"
      ],
      "metadata": {
        "execution": {
          "iopub.status.busy": "2022-09-18T19:17:34.043712Z",
          "iopub.execute_input": "2022-09-18T19:17:34.044124Z",
          "iopub.status.idle": "2022-09-18T19:17:34.060303Z",
          "shell.execute_reply.started": "2022-09-18T19:17:34.04409Z",
          "shell.execute_reply": "2022-09-18T19:17:34.058667Z"
        },
        "trusted": true,
        "id": "UJ5fct6ojwwD"
      },
      "execution_count": null,
      "outputs": []
    },
    {
      "cell_type": "code",
      "source": [
        "# looking the shape DataSet\n",
        "df_calendar.shape"
      ],
      "metadata": {
        "execution": {
          "iopub.status.busy": "2022-09-18T18:47:05.93803Z",
          "iopub.execute_input": "2022-09-18T18:47:05.938455Z",
          "iopub.status.idle": "2022-09-18T18:47:05.951248Z",
          "shell.execute_reply.started": "2022-09-18T18:47:05.938421Z",
          "shell.execute_reply": "2022-09-18T18:47:05.949697Z"
        },
        "trusted": true,
        "id": "zQoiH074jwwK"
      },
      "execution_count": null,
      "outputs": []
    },
    {
      "cell_type": "markdown",
      "source": [
        "- We have 4 columns and 1 M rows"
      ],
      "metadata": {
        "id": "9AGehODgjwwM"
      }
    },
    {
      "cell_type": "code",
      "source": [
        "#Checking the dtypes of all the columns\n",
        "\n",
        "df_calendar.info()"
      ],
      "metadata": {
        "execution": {
          "iopub.status.busy": "2022-09-18T18:47:09.059555Z",
          "iopub.execute_input": "2022-09-18T18:47:09.059984Z",
          "iopub.status.idle": "2022-09-18T18:47:09.138487Z",
          "shell.execute_reply.started": "2022-09-18T18:47:09.059951Z",
          "shell.execute_reply": "2022-09-18T18:47:09.136982Z"
        },
        "trusted": true,
        "id": "uKrs_KlVjwwM"
      },
      "execution_count": null,
      "outputs": []
    },
    {
      "cell_type": "code",
      "source": [
        "# look  describe data set\n",
        "df_calendar[\"price\"].describe().round(2)"
      ],
      "metadata": {
        "execution": {
          "iopub.status.busy": "2022-09-18T18:47:28.62888Z",
          "iopub.execute_input": "2022-09-18T18:47:28.629314Z",
          "iopub.status.idle": "2022-09-18T18:47:28.689799Z",
          "shell.execute_reply.started": "2022-09-18T18:47:28.629279Z",
          "shell.execute_reply": "2022-09-18T18:47:28.688777Z"
        },
        "trusted": true,
        "id": "r2Bp6QEqjwwN"
      },
      "execution_count": null,
      "outputs": []
    },
    {
      "cell_type": "code",
      "source": [
        "#checking null value\n",
        "df_calendar.isnull().sum() * 100 / len(df_calendar)"
      ],
      "metadata": {
        "execution": {
          "iopub.status.busy": "2022-09-18T18:47:58.949485Z",
          "iopub.execute_input": "2022-09-18T18:47:58.949921Z",
          "iopub.status.idle": "2022-09-18T18:47:59.011451Z",
          "shell.execute_reply.started": "2022-09-18T18:47:58.949889Z",
          "shell.execute_reply": "2022-09-18T18:47:59.010131Z"
        },
        "trusted": true,
        "id": "DX-HWjgvjwwT"
      },
      "execution_count": null,
      "outputs": []
    },
    {
      "cell_type": "markdown",
      "source": [
        "- We have 33% missing value"
      ],
      "metadata": {
        "id": "V8RMy1AWjwwU"
      }
    },
    {
      "cell_type": "code",
      "source": [
        "#checking duplicated value\n",
        "\n",
        "df_calendar.duplicated().sum()"
      ],
      "metadata": {
        "execution": {
          "iopub.status.busy": "2022-09-18T18:48:32.288932Z",
          "iopub.execute_input": "2022-09-18T18:48:32.289365Z",
          "iopub.status.idle": "2022-09-18T18:48:32.551444Z",
          "shell.execute_reply.started": "2022-09-18T18:48:32.289331Z",
          "shell.execute_reply": "2022-09-18T18:48:32.550007Z"
        },
        "trusted": true,
        "id": "ZgudMz-wjwwV"
      },
      "execution_count": null,
      "outputs": []
    },
    {
      "cell_type": "markdown",
      "source": [
        "- No duplicated value in Date Set Calendar"
      ],
      "metadata": {
        "id": "q698-yz0jwwb"
      }
    },
    {
      "cell_type": "code",
      "source": [
        "# repeat t or f in column available\n",
        "\n",
        "sns.countplot(df_calendar[\"available\"])"
      ],
      "metadata": {
        "execution": {
          "iopub.status.busy": "2022-09-18T18:49:00.061142Z",
          "iopub.execute_input": "2022-09-18T18:49:00.061554Z",
          "iopub.status.idle": "2022-09-18T18:49:01.159781Z",
          "shell.execute_reply.started": "2022-09-18T18:49:00.061521Z",
          "shell.execute_reply": "2022-09-18T18:49:01.158432Z"
        },
        "trusted": true,
        "id": "3Vk2wVf0jwwc"
      },
      "execution_count": null,
      "outputs": []
    },
    {
      "cell_type": "markdown",
      "source": [
        "- I don`t know what mean t or f\n",
        "- t =66%\n",
        "- f =34%"
      ],
      "metadata": {
        "id": "Z3CdVlHwjwwc"
      }
    },
    {
      "cell_type": "code",
      "source": [
        "# show price effect in the different dates\n",
        "\n",
        "plt.figure(figsize=(20,8))\n",
        "sns.lineplot(data=df_calendar,x=\"date\",y=\"price\")"
      ],
      "metadata": {
        "execution": {
          "iopub.status.busy": "2022-09-18T18:49:33.405962Z",
          "iopub.execute_input": "2022-09-18T18:49:33.406381Z",
          "iopub.status.idle": "2022-09-18T18:49:53.003555Z",
          "shell.execute_reply.started": "2022-09-18T18:49:33.406347Z",
          "shell.execute_reply": "2022-09-18T18:49:53.00199Z"
        },
        "trusted": true,
        "id": "p7SP52d2jwwd"
      },
      "execution_count": null,
      "outputs": []
    },
    {
      "cell_type": "markdown",
      "source": [
        "- We could say the price raising the summer season , because increase people order to travel"
      ],
      "metadata": {
        "id": "5Pa3drXFjwwd"
      }
    },
    {
      "cell_type": "markdown",
      "source": [
        "# End part 1 / Calendar"
      ],
      "metadata": {
        "execution": {
          "iopub.status.busy": "2022-09-18T18:50:29.512673Z",
          "iopub.execute_input": "2022-09-18T18:50:29.513054Z",
          "iopub.status.idle": "2022-09-18T18:50:29.518356Z",
          "shell.execute_reply.started": "2022-09-18T18:50:29.513022Z",
          "shell.execute_reply": "2022-09-18T18:50:29.517077Z"
        },
        "id": "gk3rbQ_Ojwwj"
      }
    },
    {
      "cell_type": "code",
      "source": [
        "# look the data set - listins\n",
        "\n",
        "df_listins.head()"
      ],
      "metadata": {
        "execution": {
          "iopub.status.busy": "2022-09-18T18:50:50.290817Z",
          "iopub.execute_input": "2022-09-18T18:50:50.292534Z",
          "iopub.status.idle": "2022-09-18T18:50:50.335379Z",
          "shell.execute_reply.started": "2022-09-18T18:50:50.292475Z",
          "shell.execute_reply": "2022-09-18T18:50:50.334312Z"
        },
        "trusted": true,
        "id": "xy2kuM2Cjwwl"
      },
      "execution_count": null,
      "outputs": []
    },
    {
      "cell_type": "code",
      "source": [
        "# looking the shape DataSet\n",
        "df_listins.shape"
      ],
      "metadata": {
        "execution": {
          "iopub.status.busy": "2022-09-18T18:51:16.848775Z",
          "iopub.execute_input": "2022-09-18T18:51:16.849168Z",
          "iopub.status.idle": "2022-09-18T18:51:16.85874Z",
          "shell.execute_reply.started": "2022-09-18T18:51:16.849137Z",
          "shell.execute_reply": "2022-09-18T18:51:16.857363Z"
        },
        "trusted": true,
        "id": "ad_64XXXjwwm"
      },
      "execution_count": null,
      "outputs": []
    },
    {
      "cell_type": "code",
      "source": [
        "# look the data set - Full project\n",
        "\n",
        "df.head()"
      ],
      "metadata": {
        "execution": {
          "iopub.status.busy": "2022-09-18T18:51:33.979884Z",
          "iopub.execute_input": "2022-09-18T18:51:33.98029Z",
          "iopub.status.idle": "2022-09-18T18:51:34.011348Z",
          "shell.execute_reply.started": "2022-09-18T18:51:33.980258Z",
          "shell.execute_reply": "2022-09-18T18:51:34.010068Z"
        },
        "trusted": true,
        "id": "NRVXBM_Mjwwn"
      },
      "execution_count": null,
      "outputs": []
    },
    {
      "cell_type": "code",
      "source": [
        "# looking the shape DataSet\n",
        "df.shape"
      ],
      "metadata": {
        "execution": {
          "iopub.status.busy": "2022-09-18T18:51:47.760539Z",
          "iopub.execute_input": "2022-09-18T18:51:47.760975Z",
          "iopub.status.idle": "2022-09-18T18:51:47.769264Z",
          "shell.execute_reply.started": "2022-09-18T18:51:47.760943Z",
          "shell.execute_reply": "2022-09-18T18:51:47.767893Z"
        },
        "trusted": true,
        "id": "2CyIx4ccjwwt"
      },
      "execution_count": null,
      "outputs": []
    },
    {
      "cell_type": "markdown",
      "source": [
        "## - Data set  df_listins the same df - Data full project"
      ],
      "metadata": {
        "id": "cRBHhgLhjwwu"
      }
    },
    {
      "cell_type": "code",
      "source": [
        "#Checking the dtypes of all the columns\n",
        "\n",
        "df.info()"
      ],
      "metadata": {
        "execution": {
          "iopub.status.busy": "2022-09-18T18:52:24.470366Z",
          "iopub.execute_input": "2022-09-18T18:52:24.470937Z",
          "iopub.status.idle": "2022-09-18T18:52:24.519222Z",
          "shell.execute_reply.started": "2022-09-18T18:52:24.470879Z",
          "shell.execute_reply": "2022-09-18T18:52:24.517816Z"
        },
        "trusted": true,
        "id": "EzfNJe4ijwwu"
      },
      "execution_count": null,
      "outputs": []
    },
    {
      "cell_type": "code",
      "source": [
        "#checking duplicated value\n",
        "\n",
        "df.duplicated().sum()"
      ],
      "metadata": {
        "execution": {
          "iopub.status.busy": "2022-09-18T18:52:40.693114Z",
          "iopub.execute_input": "2022-09-18T18:52:40.693506Z",
          "iopub.status.idle": "2022-09-18T18:52:40.754035Z",
          "shell.execute_reply.started": "2022-09-18T18:52:40.693475Z",
          "shell.execute_reply": "2022-09-18T18:52:40.752759Z"
        },
        "trusted": true,
        "id": "vckryTG5jwwv"
      },
      "execution_count": null,
      "outputs": []
    },
    {
      "cell_type": "markdown",
      "source": [
        "- - No any duplicated value"
      ],
      "metadata": {
        "execution": {
          "iopub.status.busy": "2022-09-18T18:53:01.727378Z",
          "iopub.execute_input": "2022-09-18T18:53:01.727814Z",
          "iopub.status.idle": "2022-09-18T18:53:01.735204Z",
          "shell.execute_reply.started": "2022-09-18T18:53:01.727778Z",
          "shell.execute_reply": "2022-09-18T18:53:01.733677Z"
        },
        "id": "fJV6mMnzjww1"
      }
    },
    {
      "cell_type": "markdown",
      "source": [
        "### - We have 92 columns, I need some Columns"
      ],
      "metadata": {
        "id": "EC-ygtMYjww1"
      }
    },
    {
      "cell_type": "code",
      "source": [
        "# select some columns\n",
        "\n",
        "df_new = df[[\"id\",\"bathrooms\",\"cleaning_fee\",\"number_of_reviews\",\"latitude\",\"longitude\",\"room_type\",\"country\",\"bedrooms\",\"price\"]]\n",
        "df_new"
      ],
      "metadata": {
        "execution": {
          "iopub.status.busy": "2022-09-18T18:53:43.118187Z",
          "iopub.execute_input": "2022-09-18T18:53:43.118637Z",
          "iopub.status.idle": "2022-09-18T18:53:43.147407Z",
          "shell.execute_reply.started": "2022-09-18T18:53:43.118589Z",
          "shell.execute_reply": "2022-09-18T18:53:43.145639Z"
        },
        "trusted": true,
        "id": "k9XpcZSqjww1"
      },
      "execution_count": null,
      "outputs": []
    },
    {
      "cell_type": "code",
      "source": [
        "# look  describe data set\n",
        "df_new.describe().round(2)"
      ],
      "metadata": {
        "execution": {
          "iopub.status.busy": "2022-09-18T18:53:59.101143Z",
          "iopub.execute_input": "2022-09-18T18:53:59.101654Z",
          "iopub.status.idle": "2022-09-18T18:53:59.155645Z",
          "shell.execute_reply.started": "2022-09-18T18:53:59.101583Z",
          "shell.execute_reply": "2022-09-18T18:53:59.15432Z"
        },
        "trusted": true,
        "id": "dmK4wi1Njww2"
      },
      "execution_count": null,
      "outputs": []
    },
    {
      "cell_type": "code",
      "source": [
        "# let's see how many the user reservation accommodates\n",
        "\n",
        "df_new[\"id\"].value_counts()"
      ],
      "metadata": {
        "execution": {
          "iopub.status.busy": "2022-09-18T18:54:15.359686Z",
          "iopub.execute_input": "2022-09-18T18:54:15.360098Z",
          "iopub.status.idle": "2022-09-18T18:54:15.372126Z",
          "shell.execute_reply.started": "2022-09-18T18:54:15.360065Z",
          "shell.execute_reply": "2022-09-18T18:54:15.37095Z"
        },
        "trusted": true,
        "id": "0hJzWj5Ojww9"
      },
      "execution_count": null,
      "outputs": []
    },
    {
      "cell_type": "markdown",
      "source": [
        "- All users reservation one time"
      ],
      "metadata": {
        "id": "QzDsRv9mjww-"
      }
    },
    {
      "cell_type": "code",
      "source": [
        "# show the room type\n",
        "\n",
        "plt.figure(figsize = [8, 8], clear = True, facecolor = \"#ABB2B9\")\n",
        "df_new[\"room_type\"].value_counts().plot.pie( autopct='%1.3f%%', shadow = True);"
      ],
      "metadata": {
        "execution": {
          "iopub.status.busy": "2022-09-18T18:55:02.937786Z",
          "iopub.execute_input": "2022-09-18T18:55:02.938187Z",
          "iopub.status.idle": "2022-09-18T18:55:03.18121Z",
          "shell.execute_reply.started": "2022-09-18T18:55:02.938156Z",
          "shell.execute_reply": "2022-09-18T18:55:03.179344Z"
        },
        "trusted": true,
        "id": "yx0SN7u7jww_"
      },
      "execution_count": null,
      "outputs": []
    },
    {
      "cell_type": "markdown",
      "source": [
        "- Most of people prefer reservation Entire home"
      ],
      "metadata": {
        "id": "MI3WFE3CjwxB"
      }
    },
    {
      "cell_type": "code",
      "source": [
        "# made group by based room type\n",
        "\n",
        "df_new.groupby(\"room_type\")[\"cleaning_fee\",\"price\"].mean().round(2)"
      ],
      "metadata": {
        "execution": {
          "iopub.status.busy": "2022-09-18T18:55:34.500731Z",
          "iopub.execute_input": "2022-09-18T18:55:34.501245Z",
          "iopub.status.idle": "2022-09-18T18:55:34.526303Z",
          "shell.execute_reply.started": "2022-09-18T18:55:34.501212Z",
          "shell.execute_reply": "2022-09-18T18:55:34.524949Z"
        },
        "trusted": true,
        "id": "1TgRTzk_jwxG"
      },
      "execution_count": null,
      "outputs": []
    },
    {
      "cell_type": "code",
      "source": [
        "# active graph\n",
        "\n",
        "plt.figure(figsize=(20,7))\n",
        "px.scatter(df_new, x=\"bedrooms\",y=\"price\",animation_frame=\"room_type\")"
      ],
      "metadata": {
        "execution": {
          "iopub.status.busy": "2022-09-18T18:55:50.289113Z",
          "iopub.execute_input": "2022-09-18T18:55:50.289549Z",
          "iopub.status.idle": "2022-09-18T18:55:51.370544Z",
          "shell.execute_reply.started": "2022-09-18T18:55:50.289515Z",
          "shell.execute_reply": "2022-09-18T18:55:51.369359Z"
        },
        "trusted": true,
        "id": "izrTE0WUjwxH"
      },
      "execution_count": null,
      "outputs": []
    },
    {
      "cell_type": "code",
      "source": [
        "# graph bedroom and price\n",
        "\n",
        "plt.figure(figsize=(20,8))\n",
        "sns.lineplot(data=df_new, x=\"bedrooms\",y=\"price\")\n"
      ],
      "metadata": {
        "execution": {
          "iopub.status.busy": "2022-09-18T18:56:09.594544Z",
          "iopub.execute_input": "2022-09-18T18:56:09.595004Z",
          "iopub.status.idle": "2022-09-18T18:56:10.138754Z",
          "shell.execute_reply.started": "2022-09-18T18:56:09.59497Z",
          "shell.execute_reply": "2022-09-18T18:56:10.13734Z"
        },
        "trusted": true,
        "id": "Qlt95U-IjwxH"
      },
      "execution_count": null,
      "outputs": []
    },
    {
      "cell_type": "markdown",
      "source": [
        "- The price depend on the number bedrooms , when increasing number bedroom , the price rise"
      ],
      "metadata": {
        "id": "xxRzuyPYjwxI"
      }
    },
    {
      "cell_type": "code",
      "source": [
        "# Draw the Map\n",
        "\n",
        "sanfran_map=folium.Map(location=[47.636289,-122.371025])\n",
        "\n",
        "incidents = folium.map.FeatureGroup()\n",
        "\n",
        "for lat, lng, in zip(df_new.latitude ,df_new.longitude):\n",
        "    incidents.add_child(\n",
        "        folium.features.CircleMarker(\n",
        "            [lat, lng],\n",
        "          color='red'\n",
        "        )\n",
        "    )\n",
        "\n",
        "# add incidents to map\n",
        "sanfran_map.add_child(incidents)"
      ],
      "metadata": {
        "execution": {
          "iopub.status.busy": "2022-09-18T19:17:52.774724Z",
          "iopub.execute_input": "2022-09-18T19:17:52.776759Z",
          "iopub.status.idle": "2022-09-18T19:17:55.506646Z",
          "shell.execute_reply.started": "2022-09-18T19:17:52.776721Z",
          "shell.execute_reply": "2022-09-18T19:17:55.505025Z"
        },
        "trusted": true,
        "id": "M9lxhoyPjwxO"
      },
      "execution_count": null,
      "outputs": []
    },
    {
      "cell_type": "code",
      "source": [
        "#let's see how scatterplot will come out\n",
        "viz=df_new.plot(kind='scatter', x='longitude', y='latitude', label='availability_365', c='price',\n",
        "                  cmap=plt.get_cmap('jet'), colorbar=True, alpha=0.4, figsize=(15,10))\n",
        "viz.legend()"
      ],
      "metadata": {
        "execution": {
          "iopub.status.busy": "2022-09-18T18:57:40.27199Z",
          "iopub.execute_input": "2022-09-18T18:57:40.272503Z",
          "iopub.status.idle": "2022-09-18T18:57:40.857765Z",
          "shell.execute_reply.started": "2022-09-18T18:57:40.272467Z",
          "shell.execute_reply": "2022-09-18T18:57:40.856826Z"
        },
        "trusted": true,
        "id": "OQKsSeHojwxP"
      },
      "execution_count": null,
      "outputs": []
    },
    {
      "cell_type": "markdown",
      "source": [
        "- All locations in USA"
      ],
      "metadata": {
        "id": "hEIwS_VDjwxR"
      }
    },
    {
      "cell_type": "markdown",
      "source": [
        "# End part 2 - Full project"
      ],
      "metadata": {
        "id": "dGJ0ESESjwxX"
      }
    },
    {
      "cell_type": "code",
      "source": [
        "# look the data set - Reviews\n",
        "\n",
        "df_reviews.head()"
      ],
      "metadata": {
        "execution": {
          "iopub.status.busy": "2022-09-18T18:59:44.429431Z",
          "iopub.execute_input": "2022-09-18T18:59:44.429963Z",
          "iopub.status.idle": "2022-09-18T18:59:44.448159Z",
          "shell.execute_reply.started": "2022-09-18T18:59:44.429926Z",
          "shell.execute_reply": "2022-09-18T18:59:44.44676Z"
        },
        "trusted": true,
        "id": "P646YdGRjwxX"
      },
      "execution_count": null,
      "outputs": []
    },
    {
      "cell_type": "code",
      "source": [
        "# looking the shape DataSet\n",
        "df_reviews.shape"
      ],
      "metadata": {
        "execution": {
          "iopub.status.busy": "2022-09-18T18:59:56.718495Z",
          "iopub.execute_input": "2022-09-18T18:59:56.71901Z",
          "iopub.status.idle": "2022-09-18T18:59:56.727052Z",
          "shell.execute_reply.started": "2022-09-18T18:59:56.718964Z",
          "shell.execute_reply": "2022-09-18T18:59:56.725662Z"
        },
        "trusted": true,
        "id": "rCUuItlojwxY"
      },
      "execution_count": null,
      "outputs": []
    },
    {
      "cell_type": "code",
      "source": [
        "# let's see how many the user reservation accommodates\n",
        "\n",
        "df_reviews[\"id\"].value_counts()"
      ],
      "metadata": {
        "execution": {
          "iopub.status.busy": "2022-09-18T19:00:10.711304Z",
          "iopub.execute_input": "2022-09-18T19:00:10.711762Z",
          "iopub.status.idle": "2022-09-18T19:00:10.739898Z",
          "shell.execute_reply.started": "2022-09-18T19:00:10.711728Z",
          "shell.execute_reply": "2022-09-18T19:00:10.738587Z"
        },
        "trusted": true,
        "id": "4vXU6P0yjwxZ"
      },
      "execution_count": null,
      "outputs": []
    },
    {
      "cell_type": "code",
      "source": [
        "#checking duplicated value\n",
        "\n",
        "df_reviews.duplicated().sum()"
      ],
      "metadata": {
        "execution": {
          "iopub.status.busy": "2022-09-18T19:00:22.468287Z",
          "iopub.execute_input": "2022-09-18T19:00:22.468774Z",
          "iopub.status.idle": "2022-09-18T19:00:22.579255Z",
          "shell.execute_reply.started": "2022-09-18T19:00:22.46874Z",
          "shell.execute_reply": "2022-09-18T19:00:22.577874Z"
        },
        "trusted": true,
        "id": "2gnSQr2vjwxf"
      },
      "execution_count": null,
      "outputs": []
    },
    {
      "cell_type": "code",
      "source": [
        "# How many comments depends on date\n",
        "\n",
        "df_reviews.groupby(\"date\")[\"comments\"].count().plot(figsize=(15,7))"
      ],
      "metadata": {
        "execution": {
          "iopub.status.busy": "2022-09-18T19:00:35.679034Z",
          "iopub.execute_input": "2022-09-18T19:00:35.679478Z",
          "iopub.status.idle": "2022-09-18T19:00:36.064902Z",
          "shell.execute_reply.started": "2022-09-18T19:00:35.679443Z",
          "shell.execute_reply": "2022-09-18T19:00:36.063519Z"
        },
        "trusted": true,
        "id": "aF881T2mjwxg"
      },
      "execution_count": null,
      "outputs": []
    },
    {
      "cell_type": "markdown",
      "source": [
        "- The people not writing comments in the past, after 2014 the people interest writing , and more comments in summer season."
      ],
      "metadata": {
        "id": "mRGmZ9wVjwxh"
      }
    },
    {
      "cell_type": "code",
      "source": [
        "# Length of word in sentence\n",
        "df_reviews['Length'] = df_reviews['comments'].str.len()\n",
        "df_reviews.head()"
      ],
      "metadata": {
        "execution": {
          "iopub.status.busy": "2022-09-18T19:01:05.239212Z",
          "iopub.execute_input": "2022-09-18T19:01:05.23968Z",
          "iopub.status.idle": "2022-09-18T19:01:05.310041Z",
          "shell.execute_reply.started": "2022-09-18T19:01:05.239596Z",
          "shell.execute_reply": "2022-09-18T19:01:05.308645Z"
        },
        "trusted": true,
        "id": "oNvYhwxOjwxi"
      },
      "execution_count": null,
      "outputs": []
    },
    {
      "cell_type": "code",
      "source": [
        "df_reviews['Length'].describe().round(2)"
      ],
      "metadata": {
        "execution": {
          "iopub.status.busy": "2022-09-18T19:01:20.989789Z",
          "iopub.execute_input": "2022-09-18T19:01:20.990228Z",
          "iopub.status.idle": "2022-09-18T19:01:21.009428Z",
          "shell.execute_reply.started": "2022-09-18T19:01:20.990195Z",
          "shell.execute_reply": "2022-09-18T19:01:21.007996Z"
        },
        "trusted": true,
        "id": "nfnX4rxDjwxo"
      },
      "execution_count": null,
      "outputs": []
    },
    {
      "cell_type": "code",
      "source": [
        "# any relation between length comments and date\n",
        "\n",
        "plt.figure(figsize=(20,10))\n",
        "sns.lineplot(data=df_reviews, x=\"date\",y=\"Length\")"
      ],
      "metadata": {
        "execution": {
          "iopub.status.busy": "2022-09-18T19:01:31.730184Z",
          "iopub.execute_input": "2022-09-18T19:01:31.730652Z",
          "iopub.status.idle": "2022-09-18T19:02:15.871261Z",
          "shell.execute_reply.started": "2022-09-18T19:01:31.730616Z",
          "shell.execute_reply": "2022-09-18T19:02:15.870069Z"
        },
        "trusted": true,
        "id": "1XQJCS5Jjwxp"
      },
      "execution_count": null,
      "outputs": []
    },
    {
      "cell_type": "markdown",
      "source": [
        "- we see after 2014 the people writing short comments"
      ],
      "metadata": {
        "id": "l06LHnqAjwxp"
      }
    },
    {
      "cell_type": "code",
      "source": [
        "# draw the comments / most comments\n",
        "\n",
        "comment_words = ''\n",
        "stopwords = set(STOPWORDS)\n",
        "\n",
        "\n",
        "# iterate through the csv file\n",
        "for val in df_reviews.comments:\n",
        "\n",
        "    # typecaste each val to string\n",
        "    val = str(val)\n",
        "\n",
        "    # split the value\n",
        "    tokens = val.split()\n",
        "\n",
        "    # Converts each token into lowercase\n",
        "    for i in range(len(tokens)):\n",
        "        tokens[i] = tokens[i].lower()\n",
        "\n",
        "    comment_words += \" \".join(tokens)+\" \"\n",
        "\n",
        "wordcloud = WordCloud(width = 1500, height = 1500,\n",
        "                background_color ='white',\n",
        "                stopwords = stopwords,\n",
        "                min_font_size = 10).generate(comment_words)\n",
        "\n",
        "# plot the WordCloud image\n",
        "plt.figure(figsize = (8, 8), facecolor = None)\n",
        "plt.imshow(wordcloud)\n",
        "plt.axis(\"off\")\n",
        "plt.tight_layout(pad = 0)\n",
        "\n",
        "plt.show()"
      ],
      "metadata": {
        "execution": {
          "iopub.status.busy": "2022-09-18T19:03:24.017954Z",
          "iopub.execute_input": "2022-09-18T19:03:24.018374Z",
          "iopub.status.idle": "2022-09-18T19:03:54.125569Z",
          "shell.execute_reply.started": "2022-09-18T19:03:24.018341Z",
          "shell.execute_reply": "2022-09-18T19:03:54.12416Z"
        },
        "trusted": true,
        "id": "41kxwJybjwxv"
      },
      "execution_count": null,
      "outputs": []
    },
    {
      "cell_type": "markdown",
      "source": [
        "# End part 3 / Dataset_reviews"
      ],
      "metadata": {
        "id": "Uj6z0y4kjwxx"
      }
    },
    {
      "cell_type": "markdown",
      "source": [
        "# Analysis Results😃😃😃\n",
        "\n",
        "# Airbnb 2016 Dataset\n",
        "\n",
        "### 1- Dataset -> Calendar\n",
        "\n",
        "- We have 4 columns and 1 M rows\n",
        "- 4 columns -> listing_id & date & available & price\n",
        "- We have 33% missing value- in price column.\n",
        "- No duplicated value in Date Set Calendar\n",
        "- The price raising the summer season , because increase people order to travel.\n",
        "\n",
        "\n",
        "-----------\n",
        "\n",
        "### 2- Dataset -> Full Project\n",
        "\n",
        "- We have 92 columns and 3818 rows\n",
        "- I took some columns for analysis.\n",
        "- All users reservation one time\n",
        "- Most of people prefer reservation Entire home\n",
        "\n",
        "\n",
        "#### Room_type\t   avg  cleaning_fee\n",
        "- Entire home/apt\t   74.02\t            \n",
        "- Private room\t           26.56\t                    \n",
        "- Shared room\t           27.23\t                  \n",
        "\n",
        "#### Room_type\t             \tprice\n",
        "- Entire home/apt\t   155.84\n",
        "- Private room\t           75.04\n",
        "- Shared room\t           47.55\n",
        "\n",
        "\n",
        "- The price depend on the number bedrooms , when increasing number bedroom , the price rise\n",
        "\n",
        "- All the homes in United States\n",
        "\n",
        "\n",
        "-------------\n",
        "\n",
        "\n",
        "### 3- Dataset -> Reviews\n",
        "\n",
        " - We have 6 columns and 84849rows\n",
        "\n",
        "- The people not writing comments in the past, after 2014 the people interest writing , and more comments in summer season.\n",
        "\n",
        " - After 2014 the people writing short comments\n"
      ],
      "metadata": {
        "id": "41SrHmwCjwxx"
      }
    },
    {
      "cell_type": "markdown",
      "source": [
        "# Notes 😃😃😃😃\n",
        "\n",
        "- Thank for reading my analysis and my regression. 😃😃😃😃\n",
        "\n",
        "- If you any questions or advice me please write in the comment . ❤️❤️❤️❤️\n",
        "\n",
        "\n",
        "# Vote ❤️😃\n",
        "\n",
        "- If you liked my work upvote me ,\n",
        "\n",
        "\n",
        "# The End 🤝🎉🤝🎉"
      ],
      "metadata": {
        "id": "5zxKzlN0jwx4"
      }
    }
  ]
}