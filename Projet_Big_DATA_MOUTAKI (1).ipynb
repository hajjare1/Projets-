{
  "nbformat": 4,
  "nbformat_minor": 0,
  "metadata": {
    "colab": {
      "provenance": []
    },
    "kernelspec": {
      "name": "python3",
      "display_name": "Python 3"
    },
    "language_info": {
      "name": "python"
    }
  },
  "cells": [
    {
      "cell_type": "markdown",
      "source": [
        "### ***Analyse Multifactorielle de la Gravité des Accidents Routiers en France en 2019***\n",
        "\n",
        "# **Plan: **\n",
        "1-Introduction : Présentation de l'objectif de l'étude.\n",
        "\n",
        "2-Présentation des Paramètres Étudiés\n",
        "\n",
        "3-Collecte et Préparation des Données\n",
        "\n",
        "4-Définition de l'hypothése test\n",
        "\n",
        "5-Statistiques descriptives pour chaque paramètre/ Visualisations\n",
        "\n",
        "6- conclusion\n",
        "\n",
        "\n",
        "\n"
      ],
      "metadata": {
        "id": "WhytHVM2alT4"
      }
    },
    {
      "cell_type": "markdown",
      "source": [
        "## **1-Introduction : Présentation de l'objectif de l'étude.**\n",
        "\n",
        "\n",
        "\"Analyse Multifactorielle de la Gravité des Accidents Routiers en France en 2019\"\n",
        "\n",
        "\n",
        "L'objectif de cette étude est d'entreprendre une analyse approfondie de la gravité des accidents routiers en France EN 2019, en tenant compte de divers paramètres. La gravité des accidents est une mesure cruciale qui peut avoir des implications significatives sur la sécurité routière et la vie des usagers de la route. Comprendre les facteurs qui influent sur la gravité des accidents permettra de formuler des recommandations et des politiques efficaces en matière de sécurité routière.\n",
        "\n",
        "\n",
        "\n",
        "## **2-Présentation des Paramètres Étudiés**\n",
        "\n",
        "\n",
        "\n",
        "Dans cette analyse multifactorielle, nous examinerons un ensemble diversifié de paramètres, y compris:\n",
        "trajet\n",
        "\n",
        "\n",
        "Lumière\n",
        "\n",
        "Etat de la surface\n",
        "\n",
        "\n",
        "\n",
        "Catégorie d'usager\n",
        "\n",
        "\n",
        "\n",
        "La présence et l’utilisation de l’équipement de sécurité\n",
        "\n",
        "\n",
        "Comprendre comment ces paramètres interagissent et contribuent à la gravité des accidents peut fournir des informations essentielles pour le développement de stratégies de sécurité routière ciblées. En outre, cette analyse pourrait aider à identifier des tendances spécifiques, des groupes à risque et des opportunités d'intervention préventive.\n",
        "\n",
        "En suivant cette introduction, nous explorerons chaque paramètre individuellement, en analysant ses distributions, ses corrélations avec la gravité des accidents, et ses variations temporelles. Cette démarche permettra de dresser un portrait complet des facteurs influençant la gravité des accidents routiers en France en 2019, offrant ainsi des pistes pour des interventions ciblées et des améliorations continues en matière de sécurité routière.\n"
      ],
      "metadata": {
        "id": "6Nm61j18OAmA"
      }
    },
    {
      "cell_type": "markdown",
      "source": [
        "## **3-Collecte et Préparation des Données**\n",
        "\n",
        "\n",
        "Improter les bases de données: Lieux 2019, Usager 2019, Vehicules 2019 et caratéristique 2019."
      ],
      "metadata": {
        "id": "Po27ZOsSPLu2"
      }
    },
    {
      "cell_type": "code",
      "source": [
        "from google.colab import files\n",
        "\n",
        "uploaded = files.upload()"
      ],
      "metadata": {
        "colab": {
          "base_uri": "https://localhost:8080/",
          "height": 73
        },
        "id": "aoQnhB0Gh8Zg",
        "outputId": "9c24ad9b-26ef-46c9-d8c8-7d965e21431a"
      },
      "execution_count": 1,
      "outputs": [
        {
          "output_type": "display_data",
          "data": {
            "text/plain": [
              "<IPython.core.display.HTML object>"
            ],
            "text/html": [
              "\n",
              "     <input type=\"file\" id=\"files-56c91cba-181f-4132-bfe3-7ad134e6ee91\" name=\"files[]\" multiple disabled\n",
              "        style=\"border:none\" />\n",
              "     <output id=\"result-56c91cba-181f-4132-bfe3-7ad134e6ee91\">\n",
              "      Upload widget is only available when the cell has been executed in the\n",
              "      current browser session. Please rerun this cell to enable.\n",
              "      </output>\n",
              "      <script>// Copyright 2017 Google LLC\n",
              "//\n",
              "// Licensed under the Apache License, Version 2.0 (the \"License\");\n",
              "// you may not use this file except in compliance with the License.\n",
              "// You may obtain a copy of the License at\n",
              "//\n",
              "//      http://www.apache.org/licenses/LICENSE-2.0\n",
              "//\n",
              "// Unless required by applicable law or agreed to in writing, software\n",
              "// distributed under the License is distributed on an \"AS IS\" BASIS,\n",
              "// WITHOUT WARRANTIES OR CONDITIONS OF ANY KIND, either express or implied.\n",
              "// See the License for the specific language governing permissions and\n",
              "// limitations under the License.\n",
              "\n",
              "/**\n",
              " * @fileoverview Helpers for google.colab Python module.\n",
              " */\n",
              "(function(scope) {\n",
              "function span(text, styleAttributes = {}) {\n",
              "  const element = document.createElement('span');\n",
              "  element.textContent = text;\n",
              "  for (const key of Object.keys(styleAttributes)) {\n",
              "    element.style[key] = styleAttributes[key];\n",
              "  }\n",
              "  return element;\n",
              "}\n",
              "\n",
              "// Max number of bytes which will be uploaded at a time.\n",
              "const MAX_PAYLOAD_SIZE = 100 * 1024;\n",
              "\n",
              "function _uploadFiles(inputId, outputId) {\n",
              "  const steps = uploadFilesStep(inputId, outputId);\n",
              "  const outputElement = document.getElementById(outputId);\n",
              "  // Cache steps on the outputElement to make it available for the next call\n",
              "  // to uploadFilesContinue from Python.\n",
              "  outputElement.steps = steps;\n",
              "\n",
              "  return _uploadFilesContinue(outputId);\n",
              "}\n",
              "\n",
              "// This is roughly an async generator (not supported in the browser yet),\n",
              "// where there are multiple asynchronous steps and the Python side is going\n",
              "// to poll for completion of each step.\n",
              "// This uses a Promise to block the python side on completion of each step,\n",
              "// then passes the result of the previous step as the input to the next step.\n",
              "function _uploadFilesContinue(outputId) {\n",
              "  const outputElement = document.getElementById(outputId);\n",
              "  const steps = outputElement.steps;\n",
              "\n",
              "  const next = steps.next(outputElement.lastPromiseValue);\n",
              "  return Promise.resolve(next.value.promise).then((value) => {\n",
              "    // Cache the last promise value to make it available to the next\n",
              "    // step of the generator.\n",
              "    outputElement.lastPromiseValue = value;\n",
              "    return next.value.response;\n",
              "  });\n",
              "}\n",
              "\n",
              "/**\n",
              " * Generator function which is called between each async step of the upload\n",
              " * process.\n",
              " * @param {string} inputId Element ID of the input file picker element.\n",
              " * @param {string} outputId Element ID of the output display.\n",
              " * @return {!Iterable<!Object>} Iterable of next steps.\n",
              " */\n",
              "function* uploadFilesStep(inputId, outputId) {\n",
              "  const inputElement = document.getElementById(inputId);\n",
              "  inputElement.disabled = false;\n",
              "\n",
              "  const outputElement = document.getElementById(outputId);\n",
              "  outputElement.innerHTML = '';\n",
              "\n",
              "  const pickedPromise = new Promise((resolve) => {\n",
              "    inputElement.addEventListener('change', (e) => {\n",
              "      resolve(e.target.files);\n",
              "    });\n",
              "  });\n",
              "\n",
              "  const cancel = document.createElement('button');\n",
              "  inputElement.parentElement.appendChild(cancel);\n",
              "  cancel.textContent = 'Cancel upload';\n",
              "  const cancelPromise = new Promise((resolve) => {\n",
              "    cancel.onclick = () => {\n",
              "      resolve(null);\n",
              "    };\n",
              "  });\n",
              "\n",
              "  // Wait for the user to pick the files.\n",
              "  const files = yield {\n",
              "    promise: Promise.race([pickedPromise, cancelPromise]),\n",
              "    response: {\n",
              "      action: 'starting',\n",
              "    }\n",
              "  };\n",
              "\n",
              "  cancel.remove();\n",
              "\n",
              "  // Disable the input element since further picks are not allowed.\n",
              "  inputElement.disabled = true;\n",
              "\n",
              "  if (!files) {\n",
              "    return {\n",
              "      response: {\n",
              "        action: 'complete',\n",
              "      }\n",
              "    };\n",
              "  }\n",
              "\n",
              "  for (const file of files) {\n",
              "    const li = document.createElement('li');\n",
              "    li.append(span(file.name, {fontWeight: 'bold'}));\n",
              "    li.append(span(\n",
              "        `(${file.type || 'n/a'}) - ${file.size} bytes, ` +\n",
              "        `last modified: ${\n",
              "            file.lastModifiedDate ? file.lastModifiedDate.toLocaleDateString() :\n",
              "                                    'n/a'} - `));\n",
              "    const percent = span('0% done');\n",
              "    li.appendChild(percent);\n",
              "\n",
              "    outputElement.appendChild(li);\n",
              "\n",
              "    const fileDataPromise = new Promise((resolve) => {\n",
              "      const reader = new FileReader();\n",
              "      reader.onload = (e) => {\n",
              "        resolve(e.target.result);\n",
              "      };\n",
              "      reader.readAsArrayBuffer(file);\n",
              "    });\n",
              "    // Wait for the data to be ready.\n",
              "    let fileData = yield {\n",
              "      promise: fileDataPromise,\n",
              "      response: {\n",
              "        action: 'continue',\n",
              "      }\n",
              "    };\n",
              "\n",
              "    // Use a chunked sending to avoid message size limits. See b/62115660.\n",
              "    let position = 0;\n",
              "    do {\n",
              "      const length = Math.min(fileData.byteLength - position, MAX_PAYLOAD_SIZE);\n",
              "      const chunk = new Uint8Array(fileData, position, length);\n",
              "      position += length;\n",
              "\n",
              "      const base64 = btoa(String.fromCharCode.apply(null, chunk));\n",
              "      yield {\n",
              "        response: {\n",
              "          action: 'append',\n",
              "          file: file.name,\n",
              "          data: base64,\n",
              "        },\n",
              "      };\n",
              "\n",
              "      let percentDone = fileData.byteLength === 0 ?\n",
              "          100 :\n",
              "          Math.round((position / fileData.byteLength) * 100);\n",
              "      percent.textContent = `${percentDone}% done`;\n",
              "\n",
              "    } while (position < fileData.byteLength);\n",
              "  }\n",
              "\n",
              "  // All done.\n",
              "  yield {\n",
              "    response: {\n",
              "      action: 'complete',\n",
              "    }\n",
              "  };\n",
              "}\n",
              "\n",
              "scope.google = scope.google || {};\n",
              "scope.google.colab = scope.google.colab || {};\n",
              "scope.google.colab._files = {\n",
              "  _uploadFiles,\n",
              "  _uploadFilesContinue,\n",
              "};\n",
              "})(self);\n",
              "</script> "
            ]
          },
          "metadata": {}
        },
        {
          "output_type": "stream",
          "name": "stdout",
          "text": [
            "Saving lieux-2019.csv to lieux-2019.csv\n"
          ]
        }
      ]
    },
    {
      "cell_type": "code",
      "source": [
        "import pandas as pd\n",
        "\n",
        "# Spécifiez le nom du fichier téléchargé\n",
        "nom_fichier = 'lieux-2019.csv'\n",
        "\n",
        "df = pd.read_csv('lieux-2019.csv', delimiter=';')  # ou delimiter='\\t' si c'est une tabulation\n",
        "\n",
        "with open('lieux-2019.csv', 'r') as file:\n",
        "    for _ in range(10):  # Affichez les 10 premières lignes\n",
        "        print(file.readline())\n",
        "\n",
        "\n",
        "\n",
        "\n"
      ],
      "metadata": {
        "colab": {
          "base_uri": "https://localhost:8080/"
        },
        "id": "LMa7y_3EiUCh",
        "outputId": "5e5253e2-ac56-4b6d-cbdf-4fe299ab4559"
      },
      "execution_count": 5,
      "outputs": [
        {
          "output_type": "stream",
          "name": "stdout",
          "text": [
            "\"Num_Acc\";\"catr\";\"voie\";\"v1\";\"v2\";\"circ\";\"nbv\";\"vosp\";\"prof\";\"pr\";\"pr1\";\"plan\";\"lartpc\";\"larrout\";\"surf\";\"infra\";\"situ\";\"vma\"\n",
            "\n",
            "\"201900000001\";\"1\";\"3\";\"0\";\"\";\"3\";\"10\";\"0\";\"1\";\"6\";\"900\";\"2\";\"\";\"\";\"1\";\"2\";\"1\";\"70\"\n",
            "\n",
            "\"201900000002\";\"1\";\"1\";\"0\";\"\";\"1\";\"2\";\"0\";\"4\";\"3\";\"845\";\"2\";\"\";\"\";\"1\";\"0\";\"1\";\"70\"\n",
            "\n",
            "\"201900000003\";\"1\";\"86\";\"0\";\"\";\"3\";\"8\";\"0\";\"1\";\"10\";\"500\";\"3\";\"\";\"\";\"1\";\"0\";\"1\";\"90\"\n",
            "\n",
            "\"201900000004\";\"1\";\"4\";\"0\";\"\";\"3\";\"5\";\"0\";\"1\";\"2\";\"299\";\"1\";\"\";\"\";\"1\";\"0\";\"1\";\"90\"\n",
            "\n",
            "\"201900000005\";\"1\";\"86 \";\"0\";\"INT\";\"1\";\"3\";\"0\";\"1\";\"41\";\"0\";\"3\";\"\";\"\";\"1\";\"2\";\"1\";\"90\"\n",
            "\n",
            "\"201900000006\";\"4\";\"FOCH (RUE DU MARECHAL)\";\"0\";\"\";\"2\";\"2\";\"0\";\"1\";\"0\";\"0\";\"1\";\"\";\"\";\"2\";\"0\";\"1\";\"30\"\n",
            "\n",
            "\"201900000007\";\"4\";\"BEAUJOLAIS (avenue du)\";\"0\";\"\";\"2\";\"2\";\"0\";\"1\";\"1\";\"0\";\"1\";\"\";\"\";\"1\";\"0\";\"2\";\"50\"\n",
            "\n",
            "\"201900000008\";\"4\";\"VICTOR HUGO(RUE)\";\"0\";\"\";\"2\";\"2\";\"0\";\"2\";\"0\";\"0\";\"1\";\"\";\"\";\"2\";\"0\";\"1\";\"50\"\n",
            "\n",
            "\"201900000009\";\"3\";\"986 \";\"0\";\"\";\"1\";\"4\";\"0\";\"1\";\"(1)\";\"(1)\";\"1\";\"\";\"\";\"1\";\"0\";\"1\";\"90\"\n",
            "\n"
          ]
        }
      ]
    },
    {
      "cell_type": "code",
      "source": [
        "from google.colab import files\n",
        "\n",
        "uploaded = files.upload()"
      ],
      "metadata": {
        "colab": {
          "base_uri": "https://localhost:8080/",
          "height": 73
        },
        "id": "ewK3vuma1f8e",
        "outputId": "7d5f5063-b2cc-4613-a4b4-79c3d0f08f5d"
      },
      "execution_count": 6,
      "outputs": [
        {
          "output_type": "display_data",
          "data": {
            "text/plain": [
              "<IPython.core.display.HTML object>"
            ],
            "text/html": [
              "\n",
              "     <input type=\"file\" id=\"files-fda00550-aac4-463c-8f12-7f93e3b7c282\" name=\"files[]\" multiple disabled\n",
              "        style=\"border:none\" />\n",
              "     <output id=\"result-fda00550-aac4-463c-8f12-7f93e3b7c282\">\n",
              "      Upload widget is only available when the cell has been executed in the\n",
              "      current browser session. Please rerun this cell to enable.\n",
              "      </output>\n",
              "      <script>// Copyright 2017 Google LLC\n",
              "//\n",
              "// Licensed under the Apache License, Version 2.0 (the \"License\");\n",
              "// you may not use this file except in compliance with the License.\n",
              "// You may obtain a copy of the License at\n",
              "//\n",
              "//      http://www.apache.org/licenses/LICENSE-2.0\n",
              "//\n",
              "// Unless required by applicable law or agreed to in writing, software\n",
              "// distributed under the License is distributed on an \"AS IS\" BASIS,\n",
              "// WITHOUT WARRANTIES OR CONDITIONS OF ANY KIND, either express or implied.\n",
              "// See the License for the specific language governing permissions and\n",
              "// limitations under the License.\n",
              "\n",
              "/**\n",
              " * @fileoverview Helpers for google.colab Python module.\n",
              " */\n",
              "(function(scope) {\n",
              "function span(text, styleAttributes = {}) {\n",
              "  const element = document.createElement('span');\n",
              "  element.textContent = text;\n",
              "  for (const key of Object.keys(styleAttributes)) {\n",
              "    element.style[key] = styleAttributes[key];\n",
              "  }\n",
              "  return element;\n",
              "}\n",
              "\n",
              "// Max number of bytes which will be uploaded at a time.\n",
              "const MAX_PAYLOAD_SIZE = 100 * 1024;\n",
              "\n",
              "function _uploadFiles(inputId, outputId) {\n",
              "  const steps = uploadFilesStep(inputId, outputId);\n",
              "  const outputElement = document.getElementById(outputId);\n",
              "  // Cache steps on the outputElement to make it available for the next call\n",
              "  // to uploadFilesContinue from Python.\n",
              "  outputElement.steps = steps;\n",
              "\n",
              "  return _uploadFilesContinue(outputId);\n",
              "}\n",
              "\n",
              "// This is roughly an async generator (not supported in the browser yet),\n",
              "// where there are multiple asynchronous steps and the Python side is going\n",
              "// to poll for completion of each step.\n",
              "// This uses a Promise to block the python side on completion of each step,\n",
              "// then passes the result of the previous step as the input to the next step.\n",
              "function _uploadFilesContinue(outputId) {\n",
              "  const outputElement = document.getElementById(outputId);\n",
              "  const steps = outputElement.steps;\n",
              "\n",
              "  const next = steps.next(outputElement.lastPromiseValue);\n",
              "  return Promise.resolve(next.value.promise).then((value) => {\n",
              "    // Cache the last promise value to make it available to the next\n",
              "    // step of the generator.\n",
              "    outputElement.lastPromiseValue = value;\n",
              "    return next.value.response;\n",
              "  });\n",
              "}\n",
              "\n",
              "/**\n",
              " * Generator function which is called between each async step of the upload\n",
              " * process.\n",
              " * @param {string} inputId Element ID of the input file picker element.\n",
              " * @param {string} outputId Element ID of the output display.\n",
              " * @return {!Iterable<!Object>} Iterable of next steps.\n",
              " */\n",
              "function* uploadFilesStep(inputId, outputId) {\n",
              "  const inputElement = document.getElementById(inputId);\n",
              "  inputElement.disabled = false;\n",
              "\n",
              "  const outputElement = document.getElementById(outputId);\n",
              "  outputElement.innerHTML = '';\n",
              "\n",
              "  const pickedPromise = new Promise((resolve) => {\n",
              "    inputElement.addEventListener('change', (e) => {\n",
              "      resolve(e.target.files);\n",
              "    });\n",
              "  });\n",
              "\n",
              "  const cancel = document.createElement('button');\n",
              "  inputElement.parentElement.appendChild(cancel);\n",
              "  cancel.textContent = 'Cancel upload';\n",
              "  const cancelPromise = new Promise((resolve) => {\n",
              "    cancel.onclick = () => {\n",
              "      resolve(null);\n",
              "    };\n",
              "  });\n",
              "\n",
              "  // Wait for the user to pick the files.\n",
              "  const files = yield {\n",
              "    promise: Promise.race([pickedPromise, cancelPromise]),\n",
              "    response: {\n",
              "      action: 'starting',\n",
              "    }\n",
              "  };\n",
              "\n",
              "  cancel.remove();\n",
              "\n",
              "  // Disable the input element since further picks are not allowed.\n",
              "  inputElement.disabled = true;\n",
              "\n",
              "  if (!files) {\n",
              "    return {\n",
              "      response: {\n",
              "        action: 'complete',\n",
              "      }\n",
              "    };\n",
              "  }\n",
              "\n",
              "  for (const file of files) {\n",
              "    const li = document.createElement('li');\n",
              "    li.append(span(file.name, {fontWeight: 'bold'}));\n",
              "    li.append(span(\n",
              "        `(${file.type || 'n/a'}) - ${file.size} bytes, ` +\n",
              "        `last modified: ${\n",
              "            file.lastModifiedDate ? file.lastModifiedDate.toLocaleDateString() :\n",
              "                                    'n/a'} - `));\n",
              "    const percent = span('0% done');\n",
              "    li.appendChild(percent);\n",
              "\n",
              "    outputElement.appendChild(li);\n",
              "\n",
              "    const fileDataPromise = new Promise((resolve) => {\n",
              "      const reader = new FileReader();\n",
              "      reader.onload = (e) => {\n",
              "        resolve(e.target.result);\n",
              "      };\n",
              "      reader.readAsArrayBuffer(file);\n",
              "    });\n",
              "    // Wait for the data to be ready.\n",
              "    let fileData = yield {\n",
              "      promise: fileDataPromise,\n",
              "      response: {\n",
              "        action: 'continue',\n",
              "      }\n",
              "    };\n",
              "\n",
              "    // Use a chunked sending to avoid message size limits. See b/62115660.\n",
              "    let position = 0;\n",
              "    do {\n",
              "      const length = Math.min(fileData.byteLength - position, MAX_PAYLOAD_SIZE);\n",
              "      const chunk = new Uint8Array(fileData, position, length);\n",
              "      position += length;\n",
              "\n",
              "      const base64 = btoa(String.fromCharCode.apply(null, chunk));\n",
              "      yield {\n",
              "        response: {\n",
              "          action: 'append',\n",
              "          file: file.name,\n",
              "          data: base64,\n",
              "        },\n",
              "      };\n",
              "\n",
              "      let percentDone = fileData.byteLength === 0 ?\n",
              "          100 :\n",
              "          Math.round((position / fileData.byteLength) * 100);\n",
              "      percent.textContent = `${percentDone}% done`;\n",
              "\n",
              "    } while (position < fileData.byteLength);\n",
              "  }\n",
              "\n",
              "  // All done.\n",
              "  yield {\n",
              "    response: {\n",
              "      action: 'complete',\n",
              "    }\n",
              "  };\n",
              "}\n",
              "\n",
              "scope.google = scope.google || {};\n",
              "scope.google.colab = scope.google.colab || {};\n",
              "scope.google.colab._files = {\n",
              "  _uploadFiles,\n",
              "  _uploadFilesContinue,\n",
              "};\n",
              "})(self);\n",
              "</script> "
            ]
          },
          "metadata": {}
        },
        {
          "output_type": "stream",
          "name": "stdout",
          "text": [
            "Saving usagers-2019.csv to usagers-2019.csv\n"
          ]
        }
      ]
    },
    {
      "cell_type": "code",
      "source": [
        "import pandas as pd\n",
        "\n",
        "# Spécifiez le nom du fichier téléchargé\n",
        "nom_fichier = 'usagers-2019.csv'\n",
        "\n",
        "df = pd.read_csv('usagers-2019.csv', delimiter=';')  # ou delimiter='\\t' si c'est une tabulation\n",
        "\n",
        "with open('usagers-2019.csv', 'r') as file:\n",
        "    for _ in range(10):  # Affichez les 10 premières lignes\n",
        "        print(file.readline())"
      ],
      "metadata": {
        "colab": {
          "base_uri": "https://localhost:8080/"
        },
        "id": "WCT0ohpH1tLy",
        "outputId": "6255732e-6b9a-4cd9-b704-079a16b3288f"
      },
      "execution_count": 7,
      "outputs": [
        {
          "output_type": "stream",
          "name": "stdout",
          "text": [
            "\"Num_Acc\";\"id_vehicule\";\"num_veh\";\"place\";\"catu\";\"grav\";\"sexe\";\"an_nais\";\"trajet\";\"secu1\";\"secu2\";\"secu3\";\"locp\";\"actp\";\"etatp\"\n",
            "\n",
            "\"201900000001\";\"138 306 524\";\"B01\";\"2\";\"2\";\"4\";\"2\";\"2002\";\"0\";\"1\";\"0\";\" -1\";\" -1\";\" -1\";\" -1\"\n",
            "\n",
            "\"201900000001\";\"138 306 524\";\"B01\";\"1\";\"1\";\"4\";\"2\";\"1993\";\"5\";\"1\";\"0\";\" -1\";\" -1\";\" -1\";\" -1\"\n",
            "\n",
            "\"201900000001\";\"138 306 525\";\"A01\";\"1\";\"1\";\"1\";\"1\";\"1959\";\"0\";\"1\";\"0\";\" -1\";\" -1\";\" -1\";\" -1\"\n",
            "\n",
            "\"201900000002\";\"138 306 523\";\"A01\";\"1\";\"1\";\"4\";\"2\";\"1994\";\"0\";\"1\";\"0\";\" -1\";\" -1\";\" -1\";\" -1\"\n",
            "\n",
            "\"201900000003\";\"138 306 520\";\"A01\";\"1\";\"1\";\"1\";\"1\";\"1996\";\"0\";\"1\";\"0\";\" -1\";\" -1\";\"0\";\" -1\"\n",
            "\n",
            "\"201900000003\";\"138 306 520\";\"A01\";\"2\";\"2\";\"4\";\"2\";\"1930\";\"9\";\"1\";\"0\";\" -1\";\" -1\";\"0\";\" -1\"\n",
            "\n",
            "\"201900000003\";\"138 306 521\";\"B01\";\"1\";\"1\";\"4\";\"1\";\"1995\";\"9\";\"1\";\"0\";\" -1\";\" -1\";\"0\";\" -1\"\n",
            "\n",
            "\"201900000003\";\"138 306 522\";\"C01\";\"1\";\"1\";\"1\";\"1\";\"1966\";\"1\";\"1\";\"0\";\" -1\";\" -1\";\"0\";\" -1\"\n",
            "\n",
            "\"201900000004\";\"138 306 517\";\"A01\";\"1\";\"1\";\"1\";\"1\";\"1993\";\"0\";\"1\";\"8\";\" -1\";\" -1\";\"0\";\" -1\"\n",
            "\n"
          ]
        }
      ]
    },
    {
      "cell_type": "code",
      "source": [
        "from google.colab import files\n",
        "\n",
        "uploaded = files.upload()"
      ],
      "metadata": {
        "colab": {
          "base_uri": "https://localhost:8080/",
          "height": 73
        },
        "id": "eutxGU8q2Gkw",
        "outputId": "db1f0848-ee3a-4cf7-84a4-c90a830d3b53"
      },
      "execution_count": 8,
      "outputs": [
        {
          "output_type": "display_data",
          "data": {
            "text/plain": [
              "<IPython.core.display.HTML object>"
            ],
            "text/html": [
              "\n",
              "     <input type=\"file\" id=\"files-036d08e8-8568-4649-9b85-42ae942eb14f\" name=\"files[]\" multiple disabled\n",
              "        style=\"border:none\" />\n",
              "     <output id=\"result-036d08e8-8568-4649-9b85-42ae942eb14f\">\n",
              "      Upload widget is only available when the cell has been executed in the\n",
              "      current browser session. Please rerun this cell to enable.\n",
              "      </output>\n",
              "      <script>// Copyright 2017 Google LLC\n",
              "//\n",
              "// Licensed under the Apache License, Version 2.0 (the \"License\");\n",
              "// you may not use this file except in compliance with the License.\n",
              "// You may obtain a copy of the License at\n",
              "//\n",
              "//      http://www.apache.org/licenses/LICENSE-2.0\n",
              "//\n",
              "// Unless required by applicable law or agreed to in writing, software\n",
              "// distributed under the License is distributed on an \"AS IS\" BASIS,\n",
              "// WITHOUT WARRANTIES OR CONDITIONS OF ANY KIND, either express or implied.\n",
              "// See the License for the specific language governing permissions and\n",
              "// limitations under the License.\n",
              "\n",
              "/**\n",
              " * @fileoverview Helpers for google.colab Python module.\n",
              " */\n",
              "(function(scope) {\n",
              "function span(text, styleAttributes = {}) {\n",
              "  const element = document.createElement('span');\n",
              "  element.textContent = text;\n",
              "  for (const key of Object.keys(styleAttributes)) {\n",
              "    element.style[key] = styleAttributes[key];\n",
              "  }\n",
              "  return element;\n",
              "}\n",
              "\n",
              "// Max number of bytes which will be uploaded at a time.\n",
              "const MAX_PAYLOAD_SIZE = 100 * 1024;\n",
              "\n",
              "function _uploadFiles(inputId, outputId) {\n",
              "  const steps = uploadFilesStep(inputId, outputId);\n",
              "  const outputElement = document.getElementById(outputId);\n",
              "  // Cache steps on the outputElement to make it available for the next call\n",
              "  // to uploadFilesContinue from Python.\n",
              "  outputElement.steps = steps;\n",
              "\n",
              "  return _uploadFilesContinue(outputId);\n",
              "}\n",
              "\n",
              "// This is roughly an async generator (not supported in the browser yet),\n",
              "// where there are multiple asynchronous steps and the Python side is going\n",
              "// to poll for completion of each step.\n",
              "// This uses a Promise to block the python side on completion of each step,\n",
              "// then passes the result of the previous step as the input to the next step.\n",
              "function _uploadFilesContinue(outputId) {\n",
              "  const outputElement = document.getElementById(outputId);\n",
              "  const steps = outputElement.steps;\n",
              "\n",
              "  const next = steps.next(outputElement.lastPromiseValue);\n",
              "  return Promise.resolve(next.value.promise).then((value) => {\n",
              "    // Cache the last promise value to make it available to the next\n",
              "    // step of the generator.\n",
              "    outputElement.lastPromiseValue = value;\n",
              "    return next.value.response;\n",
              "  });\n",
              "}\n",
              "\n",
              "/**\n",
              " * Generator function which is called between each async step of the upload\n",
              " * process.\n",
              " * @param {string} inputId Element ID of the input file picker element.\n",
              " * @param {string} outputId Element ID of the output display.\n",
              " * @return {!Iterable<!Object>} Iterable of next steps.\n",
              " */\n",
              "function* uploadFilesStep(inputId, outputId) {\n",
              "  const inputElement = document.getElementById(inputId);\n",
              "  inputElement.disabled = false;\n",
              "\n",
              "  const outputElement = document.getElementById(outputId);\n",
              "  outputElement.innerHTML = '';\n",
              "\n",
              "  const pickedPromise = new Promise((resolve) => {\n",
              "    inputElement.addEventListener('change', (e) => {\n",
              "      resolve(e.target.files);\n",
              "    });\n",
              "  });\n",
              "\n",
              "  const cancel = document.createElement('button');\n",
              "  inputElement.parentElement.appendChild(cancel);\n",
              "  cancel.textContent = 'Cancel upload';\n",
              "  const cancelPromise = new Promise((resolve) => {\n",
              "    cancel.onclick = () => {\n",
              "      resolve(null);\n",
              "    };\n",
              "  });\n",
              "\n",
              "  // Wait for the user to pick the files.\n",
              "  const files = yield {\n",
              "    promise: Promise.race([pickedPromise, cancelPromise]),\n",
              "    response: {\n",
              "      action: 'starting',\n",
              "    }\n",
              "  };\n",
              "\n",
              "  cancel.remove();\n",
              "\n",
              "  // Disable the input element since further picks are not allowed.\n",
              "  inputElement.disabled = true;\n",
              "\n",
              "  if (!files) {\n",
              "    return {\n",
              "      response: {\n",
              "        action: 'complete',\n",
              "      }\n",
              "    };\n",
              "  }\n",
              "\n",
              "  for (const file of files) {\n",
              "    const li = document.createElement('li');\n",
              "    li.append(span(file.name, {fontWeight: 'bold'}));\n",
              "    li.append(span(\n",
              "        `(${file.type || 'n/a'}) - ${file.size} bytes, ` +\n",
              "        `last modified: ${\n",
              "            file.lastModifiedDate ? file.lastModifiedDate.toLocaleDateString() :\n",
              "                                    'n/a'} - `));\n",
              "    const percent = span('0% done');\n",
              "    li.appendChild(percent);\n",
              "\n",
              "    outputElement.appendChild(li);\n",
              "\n",
              "    const fileDataPromise = new Promise((resolve) => {\n",
              "      const reader = new FileReader();\n",
              "      reader.onload = (e) => {\n",
              "        resolve(e.target.result);\n",
              "      };\n",
              "      reader.readAsArrayBuffer(file);\n",
              "    });\n",
              "    // Wait for the data to be ready.\n",
              "    let fileData = yield {\n",
              "      promise: fileDataPromise,\n",
              "      response: {\n",
              "        action: 'continue',\n",
              "      }\n",
              "    };\n",
              "\n",
              "    // Use a chunked sending to avoid message size limits. See b/62115660.\n",
              "    let position = 0;\n",
              "    do {\n",
              "      const length = Math.min(fileData.byteLength - position, MAX_PAYLOAD_SIZE);\n",
              "      const chunk = new Uint8Array(fileData, position, length);\n",
              "      position += length;\n",
              "\n",
              "      const base64 = btoa(String.fromCharCode.apply(null, chunk));\n",
              "      yield {\n",
              "        response: {\n",
              "          action: 'append',\n",
              "          file: file.name,\n",
              "          data: base64,\n",
              "        },\n",
              "      };\n",
              "\n",
              "      let percentDone = fileData.byteLength === 0 ?\n",
              "          100 :\n",
              "          Math.round((position / fileData.byteLength) * 100);\n",
              "      percent.textContent = `${percentDone}% done`;\n",
              "\n",
              "    } while (position < fileData.byteLength);\n",
              "  }\n",
              "\n",
              "  // All done.\n",
              "  yield {\n",
              "    response: {\n",
              "      action: 'complete',\n",
              "    }\n",
              "  };\n",
              "}\n",
              "\n",
              "scope.google = scope.google || {};\n",
              "scope.google.colab = scope.google.colab || {};\n",
              "scope.google.colab._files = {\n",
              "  _uploadFiles,\n",
              "  _uploadFilesContinue,\n",
              "};\n",
              "})(self);\n",
              "</script> "
            ]
          },
          "metadata": {}
        },
        {
          "output_type": "stream",
          "name": "stdout",
          "text": [
            "Saving vehicules-2019.csv to vehicules-2019.csv\n"
          ]
        }
      ]
    },
    {
      "cell_type": "code",
      "source": [
        "import pandas as pd\n",
        "\n",
        "# Spécifiez le nom du fichier téléchargé\n",
        "nom_fichier = 'vehicules-2019.csv'\n",
        "\n",
        "df = pd.read_csv('vehicules-2019.csv', delimiter=';')  # ou delimiter='\\t' si c'est une tabulation\n",
        "\n",
        "with open('vehicules-2019.csv', 'r') as file:\n",
        "    for _ in range(10):  # Affichez les 10 premières lignes\n",
        "        print(file.readline())"
      ],
      "metadata": {
        "colab": {
          "base_uri": "https://localhost:8080/"
        },
        "id": "Q7XUauEH2UAx",
        "outputId": "c654ff1e-a5c1-4eac-dd5a-eb438150db4e"
      },
      "execution_count": 9,
      "outputs": [
        {
          "output_type": "stream",
          "name": "stdout",
          "text": [
            "\"Num_Acc\";\"id_vehicule\";\"num_veh\";\"senc\";\"catv\";\"obs\";\"obsm\";\"choc\";\"manv\";\"motor\";\"occutc\"\n",
            "\n",
            "\"201900000001\";\"138 306 524\";\"B01\";\"2\";\"7\";\"0\";\"2\";\"5\";\"23\";\"1\";\"\"\n",
            "\n",
            "\"201900000001\";\"138 306 525\";\"A01\";\"2\";\"17\";\"1\";\"0\";\"3\";\"11\";\"1\";\"\"\n",
            "\n",
            "\"201900000002\";\"138 306 523\";\"A01\";\"1\";\"7\";\"4\";\"0\";\"1\";\"0\";\"1\";\"\"\n",
            "\n",
            "\"201900000003\";\"138 306 520\";\"A01\";\"1\";\"7\";\"0\";\"2\";\"1\";\"2\";\"1\";\"\"\n",
            "\n",
            "\"201900000003\";\"138 306 521\";\"B01\";\"1\";\"7\";\"1\";\"0\";\"4\";\"2\";\"1\";\"\"\n",
            "\n",
            "\"201900000003\";\"138 306 522\";\"C01\";\"1\";\"7\";\"0\";\"2\";\"4\";\"23\";\"6\";\"\"\n",
            "\n",
            "\"201900000004\";\"138 306 517\";\"A01\";\"2\";\"7\";\"0\";\"2\";\"4\";\"23\";\"1\";\"\"\n",
            "\n",
            "\"201900000004\";\"138 306 518\";\"B01\";\"2\";\"7\";\"0\";\"2\";\"4\";\"23\";\"1\";\"\"\n",
            "\n",
            "\"201900000004\";\"138 306 519\";\"C01\";\"2\";\"7\";\"0\";\"2\";\"1\";\"2\";\"1\";\"\"\n",
            "\n"
          ]
        }
      ]
    },
    {
      "cell_type": "code",
      "source": [
        "from google.colab import files\n",
        "\n",
        "uploaded = files.upload()"
      ],
      "metadata": {
        "colab": {
          "base_uri": "https://localhost:8080/",
          "height": 73
        },
        "id": "68A2wttQ2mBM",
        "outputId": "40a39566-07d4-4aac-cfc5-714928c000e2"
      },
      "execution_count": 10,
      "outputs": [
        {
          "output_type": "display_data",
          "data": {
            "text/plain": [
              "<IPython.core.display.HTML object>"
            ],
            "text/html": [
              "\n",
              "     <input type=\"file\" id=\"files-0ac47763-8eef-4e06-ac70-d970ebcff1cc\" name=\"files[]\" multiple disabled\n",
              "        style=\"border:none\" />\n",
              "     <output id=\"result-0ac47763-8eef-4e06-ac70-d970ebcff1cc\">\n",
              "      Upload widget is only available when the cell has been executed in the\n",
              "      current browser session. Please rerun this cell to enable.\n",
              "      </output>\n",
              "      <script>// Copyright 2017 Google LLC\n",
              "//\n",
              "// Licensed under the Apache License, Version 2.0 (the \"License\");\n",
              "// you may not use this file except in compliance with the License.\n",
              "// You may obtain a copy of the License at\n",
              "//\n",
              "//      http://www.apache.org/licenses/LICENSE-2.0\n",
              "//\n",
              "// Unless required by applicable law or agreed to in writing, software\n",
              "// distributed under the License is distributed on an \"AS IS\" BASIS,\n",
              "// WITHOUT WARRANTIES OR CONDITIONS OF ANY KIND, either express or implied.\n",
              "// See the License for the specific language governing permissions and\n",
              "// limitations under the License.\n",
              "\n",
              "/**\n",
              " * @fileoverview Helpers for google.colab Python module.\n",
              " */\n",
              "(function(scope) {\n",
              "function span(text, styleAttributes = {}) {\n",
              "  const element = document.createElement('span');\n",
              "  element.textContent = text;\n",
              "  for (const key of Object.keys(styleAttributes)) {\n",
              "    element.style[key] = styleAttributes[key];\n",
              "  }\n",
              "  return element;\n",
              "}\n",
              "\n",
              "// Max number of bytes which will be uploaded at a time.\n",
              "const MAX_PAYLOAD_SIZE = 100 * 1024;\n",
              "\n",
              "function _uploadFiles(inputId, outputId) {\n",
              "  const steps = uploadFilesStep(inputId, outputId);\n",
              "  const outputElement = document.getElementById(outputId);\n",
              "  // Cache steps on the outputElement to make it available for the next call\n",
              "  // to uploadFilesContinue from Python.\n",
              "  outputElement.steps = steps;\n",
              "\n",
              "  return _uploadFilesContinue(outputId);\n",
              "}\n",
              "\n",
              "// This is roughly an async generator (not supported in the browser yet),\n",
              "// where there are multiple asynchronous steps and the Python side is going\n",
              "// to poll for completion of each step.\n",
              "// This uses a Promise to block the python side on completion of each step,\n",
              "// then passes the result of the previous step as the input to the next step.\n",
              "function _uploadFilesContinue(outputId) {\n",
              "  const outputElement = document.getElementById(outputId);\n",
              "  const steps = outputElement.steps;\n",
              "\n",
              "  const next = steps.next(outputElement.lastPromiseValue);\n",
              "  return Promise.resolve(next.value.promise).then((value) => {\n",
              "    // Cache the last promise value to make it available to the next\n",
              "    // step of the generator.\n",
              "    outputElement.lastPromiseValue = value;\n",
              "    return next.value.response;\n",
              "  });\n",
              "}\n",
              "\n",
              "/**\n",
              " * Generator function which is called between each async step of the upload\n",
              " * process.\n",
              " * @param {string} inputId Element ID of the input file picker element.\n",
              " * @param {string} outputId Element ID of the output display.\n",
              " * @return {!Iterable<!Object>} Iterable of next steps.\n",
              " */\n",
              "function* uploadFilesStep(inputId, outputId) {\n",
              "  const inputElement = document.getElementById(inputId);\n",
              "  inputElement.disabled = false;\n",
              "\n",
              "  const outputElement = document.getElementById(outputId);\n",
              "  outputElement.innerHTML = '';\n",
              "\n",
              "  const pickedPromise = new Promise((resolve) => {\n",
              "    inputElement.addEventListener('change', (e) => {\n",
              "      resolve(e.target.files);\n",
              "    });\n",
              "  });\n",
              "\n",
              "  const cancel = document.createElement('button');\n",
              "  inputElement.parentElement.appendChild(cancel);\n",
              "  cancel.textContent = 'Cancel upload';\n",
              "  const cancelPromise = new Promise((resolve) => {\n",
              "    cancel.onclick = () => {\n",
              "      resolve(null);\n",
              "    };\n",
              "  });\n",
              "\n",
              "  // Wait for the user to pick the files.\n",
              "  const files = yield {\n",
              "    promise: Promise.race([pickedPromise, cancelPromise]),\n",
              "    response: {\n",
              "      action: 'starting',\n",
              "    }\n",
              "  };\n",
              "\n",
              "  cancel.remove();\n",
              "\n",
              "  // Disable the input element since further picks are not allowed.\n",
              "  inputElement.disabled = true;\n",
              "\n",
              "  if (!files) {\n",
              "    return {\n",
              "      response: {\n",
              "        action: 'complete',\n",
              "      }\n",
              "    };\n",
              "  }\n",
              "\n",
              "  for (const file of files) {\n",
              "    const li = document.createElement('li');\n",
              "    li.append(span(file.name, {fontWeight: 'bold'}));\n",
              "    li.append(span(\n",
              "        `(${file.type || 'n/a'}) - ${file.size} bytes, ` +\n",
              "        `last modified: ${\n",
              "            file.lastModifiedDate ? file.lastModifiedDate.toLocaleDateString() :\n",
              "                                    'n/a'} - `));\n",
              "    const percent = span('0% done');\n",
              "    li.appendChild(percent);\n",
              "\n",
              "    outputElement.appendChild(li);\n",
              "\n",
              "    const fileDataPromise = new Promise((resolve) => {\n",
              "      const reader = new FileReader();\n",
              "      reader.onload = (e) => {\n",
              "        resolve(e.target.result);\n",
              "      };\n",
              "      reader.readAsArrayBuffer(file);\n",
              "    });\n",
              "    // Wait for the data to be ready.\n",
              "    let fileData = yield {\n",
              "      promise: fileDataPromise,\n",
              "      response: {\n",
              "        action: 'continue',\n",
              "      }\n",
              "    };\n",
              "\n",
              "    // Use a chunked sending to avoid message size limits. See b/62115660.\n",
              "    let position = 0;\n",
              "    do {\n",
              "      const length = Math.min(fileData.byteLength - position, MAX_PAYLOAD_SIZE);\n",
              "      const chunk = new Uint8Array(fileData, position, length);\n",
              "      position += length;\n",
              "\n",
              "      const base64 = btoa(String.fromCharCode.apply(null, chunk));\n",
              "      yield {\n",
              "        response: {\n",
              "          action: 'append',\n",
              "          file: file.name,\n",
              "          data: base64,\n",
              "        },\n",
              "      };\n",
              "\n",
              "      let percentDone = fileData.byteLength === 0 ?\n",
              "          100 :\n",
              "          Math.round((position / fileData.byteLength) * 100);\n",
              "      percent.textContent = `${percentDone}% done`;\n",
              "\n",
              "    } while (position < fileData.byteLength);\n",
              "  }\n",
              "\n",
              "  // All done.\n",
              "  yield {\n",
              "    response: {\n",
              "      action: 'complete',\n",
              "    }\n",
              "  };\n",
              "}\n",
              "\n",
              "scope.google = scope.google || {};\n",
              "scope.google.colab = scope.google.colab || {};\n",
              "scope.google.colab._files = {\n",
              "  _uploadFiles,\n",
              "  _uploadFilesContinue,\n",
              "};\n",
              "})(self);\n",
              "</script> "
            ]
          },
          "metadata": {}
        },
        {
          "output_type": "stream",
          "name": "stdout",
          "text": [
            "Saving caracteristiques-2019.csv to caracteristiques-2019.csv\n"
          ]
        }
      ]
    },
    {
      "cell_type": "code",
      "source": [
        "import pandas as pd\n",
        "\n",
        "# Spécifiez le nom du fichier téléchargé\n",
        "nom_fichier = 'caracteristiques-2019.csv'\n",
        "\n",
        "df = pd.read_csv('caracteristiques-2019.csv', delimiter=';')  # ou delimiter='\\t' si c'est une tabulation\n",
        "\n",
        "with open('caracteristiques-2019.csv', 'r') as file:\n",
        "    for _ in range(10):  # Affichez les 10 premières lignes\n",
        "        print(file.readline())"
      ],
      "metadata": {
        "colab": {
          "base_uri": "https://localhost:8080/"
        },
        "id": "fBdO0vB635Pr",
        "outputId": "0245f2cd-4c33-42a0-e373-db77e5a1bf95"
      },
      "execution_count": 11,
      "outputs": [
        {
          "output_type": "stream",
          "name": "stdout",
          "text": [
            "\"Num_Acc\";\"jour\";\"mois\";\"an\";\"hrmn\";\"lum\";\"dep\";\"com\";\"agg\";\"int\";\"atm\";\"col\";\"adr\";\"lat\";\"long\"\n",
            "\n",
            "\"201900000001\";\"30\";\"11\";\"2019\";\"01:30\";\"4\";\"93\";\"93053\";\"1\";\"1\";\"1\";\"2\";\"AUTOROUTE A3\";\"48,8962100\";\"2,4701200\"\n",
            "\n",
            "\"201900000002\";\"30\";\"11\";\"2019\";\"02:50\";\"3\";\"93\";\"93066\";\"1\";\"1\";\"1\";\"6\";\"AUTOROUTE A1\";\"48,9307000\";\"2,3688000\"\n",
            "\n",
            "\"201900000003\";\"28\";\"11\";\"2019\";\"15:15\";\"1\";\"92\";\"92036\";\"1\";\"1\";\"1\";\"4\";\"AUTOROUTE A86\";\"48,9358718\";\"2,3191744\"\n",
            "\n",
            "\"201900000004\";\"30\";\"11\";\"2019\";\"20:20\";\"5\";\"94\";\"94069\";\"1\";\"1\";\"1\";\"4\";\"A4\";\"48,8173295\";\"2,4281502\"\n",
            "\n",
            "\"201900000005\";\"30\";\"11\";\"2019\";\"04:00\";\"3\";\"94\";\"94028\";\"1\";\"1\";\"1\";\"2\";\"A86 INT\";\"48,7763620\";\"2,4332540\"\n",
            "\n",
            "\"201900000006\";\"28\";\"11\";\"2019\";\"14:03\";\"1\";\"87\";\"87085\";\"1\";\"3\";\"2\";\"3\";\"FOCH (RUE DU MARECHAL)\";\"45,8469400\";\"1,2338600\"\n",
            "\n",
            "\"201900000007\";\"28\";\"11\";\"2019\";\"07:27\";\"2\";\"69\";\"69092\";\"2\";\"1\";\"8\";\"2\";\"BEAUJOLAIS (avenue du)\";\"46,0006600\";\"4,7059900\"\n",
            "\n",
            "\"201900000008\";\"29\";\"11\";\"2019\";\"16:40\";\"2\";\"38\";\"38544\";\"2\";\"1\";\"1\";\"6\";\"VICTOR HUGO(RUE)\";\"45,5221900\";\"4,8748000\"\n",
            "\n",
            "\"201900000009\";\"28\";\"11\";\"2019\";\"18:00\";\"3\";\"34\";\"34129\";\"1\";\"1\";\"1\";\"5\";\"PALAVAS D986 (ROUTE DE)\";\"43,5644580\";\"3,8943420\"\n",
            "\n"
          ]
        }
      ]
    },
    {
      "cell_type": "markdown",
      "source": [
        "## **4-Définition de l'hypothése test**\n",
        "\n",
        "\n",
        "\n",
        "Dans le contexte de mon étude sur la gravité des accidents routiers, voici une proposition d'une hypothèse teste et une hypothèse alternative:\n",
        "\n",
        "***Hypothèse Teste*** : La gravité des accidents routiers ne dépend pas des paramètres étudiés, tels que le sexe, la zone géographique, la lumière, l'état de la surface, la situation de l'accident, la catégorie de véhicule, la catégorie d'usager, le trajet, et la présence et l'utilisation de l'équipement de sécurité.\n",
        "\n",
        "\n",
        "*** Hypothèse alternative :*** La gravité des accidents routiers dépend significativement de l'un ou plusieurs des paramètres étudiés, tels que le sexe, la zone géographique, la lumière, l'état de la surface, la situation de l'accident, la catégorie de véhicule, la catégorie d'usager, le trajet, et la présence et l'utilisation de l'équipement de sécurité.\n",
        "\n"
      ],
      "metadata": {
        "id": "h0CKVTDxPkjw"
      }
    },
    {
      "cell_type": "markdown",
      "source": [
        "# **5-Statistiques descriptives pour chaque paramètre.**"
      ],
      "metadata": {
        "id": "-nkcbSEWYJfF"
      }
    },
    {
      "cell_type": "code",
      "source": [
        "!pip install pandas matplotlib"
      ],
      "metadata": {
        "colab": {
          "base_uri": "https://localhost:8080/"
        },
        "id": "J60TDgeWig-G",
        "outputId": "75f9d23d-c438-4065-ed86-58ecca7b5ab4"
      },
      "execution_count": 15,
      "outputs": [
        {
          "output_type": "stream",
          "name": "stdout",
          "text": [
            "Requirement already satisfied: pandas in /usr/local/lib/python3.10/dist-packages (1.5.3)\n",
            "Requirement already satisfied: matplotlib in /usr/local/lib/python3.10/dist-packages (3.7.1)\n",
            "Requirement already satisfied: python-dateutil>=2.8.1 in /usr/local/lib/python3.10/dist-packages (from pandas) (2.8.2)\n",
            "Requirement already satisfied: pytz>=2020.1 in /usr/local/lib/python3.10/dist-packages (from pandas) (2023.3.post1)\n",
            "Requirement already satisfied: numpy>=1.21.0 in /usr/local/lib/python3.10/dist-packages (from pandas) (1.23.5)\n",
            "Requirement already satisfied: contourpy>=1.0.1 in /usr/local/lib/python3.10/dist-packages (from matplotlib) (1.2.0)\n",
            "Requirement already satisfied: cycler>=0.10 in /usr/local/lib/python3.10/dist-packages (from matplotlib) (0.12.1)\n",
            "Requirement already satisfied: fonttools>=4.22.0 in /usr/local/lib/python3.10/dist-packages (from matplotlib) (4.47.0)\n",
            "Requirement already satisfied: kiwisolver>=1.0.1 in /usr/local/lib/python3.10/dist-packages (from matplotlib) (1.4.5)\n",
            "Requirement already satisfied: packaging>=20.0 in /usr/local/lib/python3.10/dist-packages (from matplotlib) (23.2)\n",
            "Requirement already satisfied: pillow>=6.2.0 in /usr/local/lib/python3.10/dist-packages (from matplotlib) (9.4.0)\n",
            "Requirement already satisfied: pyparsing>=2.3.1 in /usr/local/lib/python3.10/dist-packages (from matplotlib) (3.1.1)\n",
            "Requirement already satisfied: six>=1.5 in /usr/local/lib/python3.10/dist-packages (from python-dateutil>=2.8.1->pandas) (1.16.0)\n"
          ]
        }
      ]
    },
    {
      "cell_type": "code",
      "source": [
        "with open('caracteristiques-2019.csv', 'r') as file:\n",
        "    for i in range(204, 210):  # Vous pouvez ajuster les numéros de ligne selon votre besoin\n",
        "        print(f\"Ligne {i}: {file.readline()}\")"
      ],
      "metadata": {
        "colab": {
          "base_uri": "https://localhost:8080/"
        },
        "id": "GftZkqJ8jAt2",
        "outputId": "8d13d284-5683-4882-95e5-4f065cc71f73"
      },
      "execution_count": 18,
      "outputs": [
        {
          "output_type": "stream",
          "name": "stdout",
          "text": [
            "Ligne 204: \"Num_Acc\";\"jour\";\"mois\";\"an\";\"hrmn\";\"lum\";\"dep\";\"com\";\"agg\";\"int\";\"atm\";\"col\";\"adr\";\"lat\";\"long\"\n",
            "\n",
            "Ligne 205: \"201900000001\";\"30\";\"11\";\"2019\";\"01:30\";\"4\";\"93\";\"93053\";\"1\";\"1\";\"1\";\"2\";\"AUTOROUTE A3\";\"48,8962100\";\"2,4701200\"\n",
            "\n",
            "Ligne 206: \"201900000002\";\"30\";\"11\";\"2019\";\"02:50\";\"3\";\"93\";\"93066\";\"1\";\"1\";\"1\";\"6\";\"AUTOROUTE A1\";\"48,9307000\";\"2,3688000\"\n",
            "\n",
            "Ligne 207: \"201900000003\";\"28\";\"11\";\"2019\";\"15:15\";\"1\";\"92\";\"92036\";\"1\";\"1\";\"1\";\"4\";\"AUTOROUTE A86\";\"48,9358718\";\"2,3191744\"\n",
            "\n",
            "Ligne 208: \"201900000004\";\"30\";\"11\";\"2019\";\"20:20\";\"5\";\"94\";\"94069\";\"1\";\"1\";\"1\";\"4\";\"A4\";\"48,8173295\";\"2,4281502\"\n",
            "\n",
            "Ligne 209: \"201900000005\";\"30\";\"11\";\"2019\";\"04:00\";\"3\";\"94\";\"94028\";\"1\";\"1\";\"1\";\"2\";\"A86 INT\";\"48,7763620\";\"2,4332540\"\n",
            "\n"
          ]
        }
      ]
    },
    {
      "cell_type": "code",
      "source": [
        "df = pd.read_csv('caracteristiques-2019.csv', delimiter=';')\n",
        "\n",
        "# Compter le nombre d'accidents pour chaque condition d'éclairage\n",
        "accidents_par_lumiere = df['lum'].value_counts().sort_index()\n",
        "\n",
        "# Plot de l'histogramme\n",
        "plt.bar(accidents_par_lumiere.index, accidents_par_lumiere.values, color='blue')\n",
        "plt.xlabel('Condition d\\'éclairage')\n",
        "plt.ylabel('Nombre d\\'accidents')\n",
        "plt.title('Nombre d\\'accidents par condition d\\'éclairage')\n",
        "plt.show()"
      ],
      "metadata": {
        "colab": {
          "base_uri": "https://localhost:8080/",
          "height": 473
        },
        "id": "ImC5ippnjM1l",
        "outputId": "ab664d40-0e02-403c-e3e6-e374f12d7e92"
      },
      "execution_count": 19,
      "outputs": [
        {
          "output_type": "display_data",
          "data": {
            "text/plain": [
              "<Figure size 640x480 with 1 Axes>"
            ],
            "image/png": "[encoded data removed]"
          },
          "metadata": {}
        }
      ]
    },
    {
      "cell_type": "code",
      "source": [
        "import pandas as pd\n",
        "import matplotlib.pyplot as plt\n",
        "\n",
        "# Charger le fichier CSV dans un DataFrame avec le délimiteur point-virgule\n",
        "df = pd.read_csv('caracteristiques-2019.csv', delimiter=';')\n",
        "\n",
        "# Compter le nombre d'accidents pour chaque condition d'éclairage\n",
        "accidents_par_lumiere = df['lum'].value_counts().sort_index()\n",
        "\n",
        "# Définir une palette de couleurs (optionnel)\n",
        "couleurs = ['blue', 'green', 'orange', 'red', 'purple']\n",
        "\n",
        "# Plot de l'histogramme avec une légende, en précisant chaque barre et en changeant la couleur\n",
        "plt.bar(accidents_par_lumiere.index, accidents_par_lumiere.values, color=couleurs)\n",
        "plt.xlabel('Condition d\\'éclairage')\n",
        "plt.ylabel('Nombre d\\'accidents')\n",
        "plt.title('Nombre d\\'accidents par condition d\\'éclairage')\n",
        "\n",
        "# Ajouter une légende en précisant chaque barre\n",
        "for i, valeur in enumerate(accidents_par_lumiere.values):\n",
        "    plt.text(i, valeur + 50, str(valeur), ha='center', va='bottom', fontsize=8)\n",
        "\n",
        "# Ajouter une légende explicative\n",
        "legende = ['Plein jour', 'Crépuscule ou aube', 'Nuit sans éclairage public', 'Nuit avec éclairage public non allumé', 'Nuit avec éclairage public allumé']\n",
        "plt.legend(legende, title=\"Conditions d'éclairage\", loc='upper right', bbox_to_anchor=(1.25, 1))\n",
        "\n",
        "plt.show()"
      ],
      "metadata": {
        "colab": {
          "base_uri": "https://localhost:8080/",
          "height": 473
        },
        "id": "c67VN8Sejpg6",
        "outputId": "3ec97f01-6da2-4f91-d391-8f020a5ce0f7"
      },
      "execution_count": 20,
      "outputs": [
        {
          "output_type": "display_data",
          "data": {
            "text/plain": [
              "<Figure size 640x480 with 1 Axes>"
            ],
            "image/png": "[encoded data removed]"
          },
          "metadata": {}
        }
      ]
    },
    {
      "cell_type": "markdown",
      "source": [
        "***Commentaire:*** Nous observons une hausse significative du nombre d'accidents en plein jour, on etudie par la suite la corrélation de ce parametre avec l'etat de la surafce et la catégorie de la route. nous allons créé une jointure entre le fichier lieux et caracterisitque pour l'etude de ce cas.\n"
      ],
      "metadata": {
        "id": "mxivPRiIktPj"
      }
    },
    {
      "cell_type": "code",
      "source": [
        "import pandas as pd\n",
        "import numpy as np\n",
        "import matplotlib.pyplot as plt\n",
        "from scipy.stats import chi2_contingency\n",
        "\n",
        "# ... (votre code)\n",
        "df_caracteristiques = pd.read_csv('caracteristiques-2019.csv', delimiter=';')\n",
        "df_lieux = pd.read_csv('lieux-2019.csv', delimiter=';')\n",
        "\n",
        "# Fusionner les DataFrames sur la base de Num_Acc\n",
        "df_merged = pd.merge(df_caracteristiques, df_lieux, on='Num_Acc')\n",
        "\n",
        "# Remplacer les valeurs -1 par NaN pour l'état de la surface\n",
        "df_merged['surf'] = np.where(df_merged['surf'] == -1, pd.NA, df_merged['surf'])\n",
        "\n",
        "# Sélectionner les colonnes d'intérêt\n",
        "df_selected = df_merged[['lum', 'surf']]\n",
        "\n",
        "# Table de contingence entre lumière et état de la surface\n",
        "table_contingence = pd.crosstab(df_selected['lum'], df_selected['surf'])\n",
        "\n",
        "# Afficher le tableau de contingence\n",
        "print(table_contingence)\n",
        "\n",
        "# Test du chi2 pour la corrélation\n",
        "chi2, p, _, _ = chi2_contingency(pd.crosstab(df_selected['lum'], df_selected['surf']))\n",
        "\n",
        "print(f\"Test du chi2 : {chi2}\")\n",
        "print(f\"P-valeur : {p}\")\n",
        "\n",
        "# Créer un heatmap pour visualiser la corrélation\n",
        "plt.figure(figsize=(10, 6))\n",
        "plt.imshow(table_contingence, cmap='viridis', interpolation='nearest')\n",
        "plt.colorbar()\n",
        "plt.xlabel('État de la surface')\n",
        "plt.ylabel('Lumière')\n",
        "plt.title('Corrélation entre Lumière et État de la surface')\n",
        "plt.show()"
      ],
      "metadata": {
        "colab": {
          "base_uri": "https://localhost:8080/",
          "height": 663
        },
        "id": "MnCHJFVAmZX9",
        "outputId": "b5496d8e-93aa-4ee3-c852-1107d6ebd592"
      },
      "execution_count": 28,
      "outputs": [
        {
          "output_type": "stream",
          "name": "stdout",
          "text": [
            "surf      1     2   3  4   5   6   7   8    9\n",
            "lum                                          \n",
            "1     33027  5400  62  9  63  24  81  88  235\n",
            "2      2748   932   7  1  13   4  43  11   20\n",
            "3      3946  1856  17  7  16   8  50   6   41\n",
            "4       354   153   3  0   1   0   3   1    2\n",
            "5      6876  2617  26  1  11   1  20   7   28\n",
            "Test du chi2 : 2062.7662308158997\n",
            "P-valeur : 0.0\n"
          ]
        },
        {
          "output_type": "display_data",
          "data": {
            "text/plain": [
              "<Figure size 1000x600 with 2 Axes>"
            ],
            "image/png": "[encoded data removed]"
          },
          "metadata": {}
        }
      ]
    },
    {
      "cell_type": "code",
      "source": [],
      "metadata": {
        "id": "wRG3OqFInIXr"
      },
      "execution_count": null,
      "outputs": []
    },
    {
      "cell_type": "markdown",
      "source": [
        "\n",
        "***Commentaire***: La valeur de la statistique du test du chi2 (chi2) est de 2062.77 et la p-valeur (p) est de 0.0. En général, une p-valeur inférieure à un niveau de signification (alpha) couramment utilisé de 0.05 suggère que nous pouvons rejeter l'hypothèse nulle,la probabilité que l'association observée soit due au hasard.\n",
        "\n"
      ],
      "metadata": {
        "id": "-ab0WPWmnKOC"
      }
    },
    {
      "cell_type": "markdown",
      "source": [],
      "metadata": {
        "id": "47uYlNhGnWbS"
      }
    },
    {
      "cell_type": "code",
      "source": [
        "#corrélation entre la lumonisité et la catégorie de la route"
      ],
      "metadata": {
        "id": "cJvi7oIunXDP"
      },
      "execution_count": null,
      "outputs": []
    },
    {
      "cell_type": "code",
      "source": [
        "import pandas as pd\n",
        "import numpy as np\n",
        "import matplotlib.pyplot as plt\n",
        "from scipy.stats import chi2_contingency\n",
        "\n",
        "# Charger les fichiers CSV dans des DataFrames\n",
        "df_caracteristiques = pd.read_csv('caracteristiques-2019.csv', delimiter=';')\n",
        "df_lieux = pd.read_csv('lieux-2019.csv', delimiter=';')\n",
        "\n",
        "# Fusionner les DataFrames sur la base de Num_Acc\n",
        "df_merged = pd.merge(df_caracteristiques, df_lieux, on='Num_Acc')\n",
        "\n",
        "# Sélectionner les colonnes d'intérêt\n",
        "df_selected = df_merged[['catr', 'lum']]\n",
        "\n",
        "# Remplacer les valeurs -1 par NaN pour la luminosité\n",
        "df_selected.loc[df_selected['lum'] == -1, 'lum'] = pd.NA\n",
        "\n",
        "# Table de contingence entre catégorie de route et luminosité\n",
        "table_contingence = pd.crosstab(df_selected['catr'], df_selected['lum'])\n",
        "\n",
        "# Afficher le tableau de contingence\n",
        "print(table_contingence)\n",
        "\n",
        "# Test du chi2 pour la corrélation\n",
        "chi2, p, _, _ = chi2_contingency(table_contingence)\n",
        "\n",
        "print(f\"Test du chi2 : {chi2}\")\n",
        "print(f\"P-valeur : {p}\")\n"
      ],
      "metadata": {
        "colab": {
          "base_uri": "https://localhost:8080/"
        },
        "id": "r9KSq4uqo6zR",
        "outputId": "1794b0e7-1e39-4134-ac41-d070b1c50100"
      },
      "execution_count": 30,
      "outputs": [
        {
          "output_type": "stream",
          "name": "stdout",
          "text": [
            "lum     1.0   2.0   3.0  4.0   5.0\n",
            "catr                              \n",
            "1      3636   349  1349  125   364\n",
            "2      2393   242   787   51   393\n",
            "3     13743  1509  2953  153  2605\n",
            "4     17600  1547   759  173  5692\n",
            "5        66     3    10    0     8\n",
            "6       348    18    14    3    59\n",
            "7       782    86    40    5   385\n",
            "9       434    27    36    7    86\n",
            "Test du chi2 : 4674.68661819493\n",
            "P-valeur : 0.0\n"
          ]
        }
      ]
    },
    {
      "cell_type": "code",
      "source": [
        "#la corrélation entre la catégorie de l'usagers , la gravité de l'accident et le trajet de l'accident:\n",
        "import pandas as pd\n",
        "import numpy as np\n",
        "from scipy.stats import chi2_contingency\n",
        "\n",
        "# Charger le fichier CSV des usagers\n",
        "df_usagers = pd.read_csv('usagers-2019.csv', delimiter=';')\n",
        "\n",
        "# Sélectionner les colonnes d'intérêt\n",
        "df_selected = df_usagers[['catu', 'grav', 'trajet']]\n",
        "\n",
        "# Remplacer les valeurs -1 et 0 par NaN pour trajet\n",
        "df_selected.loc[df_selected['trajet'].isin([-1, 0]), 'trajet'] = pd.NA\n",
        "\n",
        "# Table de contingence entre catégorie d'usager, gravité et trajet\n",
        "table_contingence = pd.crosstab([df_selected['catu'], df_selected['grav']], df_selected['trajet'])\n",
        "\n",
        "# Afficher le tableau de contingence\n",
        "print(table_contingence)\n",
        "\n",
        "# Test du chi2 pour la corrélation\n",
        "chi2, p, _, _ = chi2_contingency(table_contingence)\n",
        "\n",
        "print(f\"Test du chi2 : {chi2}\")\n",
        "print(f\"P-valeur : {p}\")\n"
      ],
      "metadata": {
        "colab": {
          "base_uri": "https://localhost:8080/"
        },
        "id": "h0K9BWH63Ciw",
        "outputId": "21a16adf-efa8-4941-dab0-9cdf81b0c385"
      },
      "execution_count": 34,
      "outputs": [
        {
          "output_type": "stream",
          "name": "stdout",
          "text": [
            "trajet      1.0  2.0   3.0   4.0    5.0   9.0\n",
            "catu grav                                    \n",
            "1    1     6918  521  1273  7556  14758  3262\n",
            "     2      284   27    86    93   1301   142\n",
            "     3     2152  188   334   606   6955   794\n",
            "     4     6859  564   580  2731  11409  2611\n",
            "2    1      248  282   216   616   4787   559\n",
            "     2        9    9    15    12    365    29\n",
            "     3       86   36    75    82   2544   184\n",
            "     4      360  250   208   540   5833   884\n",
            "3    1        8   24    12    15    125    33\n",
            "     2       13    7    62    10    243    51\n",
            "     3      189  229   321    78   1316   245\n",
            "     4      551  699   375   167   2385   667\n",
            "Test du chi2 : 15109.189984872482\n",
            "P-valeur : 0.0\n"
          ]
        }
      ]
    },
    {
      "cell_type": "code",
      "source": [
        "pip install matplotlib\n"
      ],
      "metadata": {
        "colab": {
          "base_uri": "https://localhost:8080/"
        },
        "id": "mEMjraQe3SdU",
        "outputId": "d612e3e9-51b3-4d1c-d31f-2957a3f4c3b4"
      },
      "execution_count": 35,
      "outputs": [
        {
          "output_type": "stream",
          "name": "stdout",
          "text": [
            "Requirement already satisfied: matplotlib in /usr/local/lib/python3.10/dist-packages (3.7.1)\n",
            "Requirement already satisfied: contourpy>=1.0.1 in /usr/local/lib/python3.10/dist-packages (from matplotlib) (1.2.0)\n",
            "Requirement already satisfied: cycler>=0.10 in /usr/local/lib/python3.10/dist-packages (from matplotlib) (0.12.1)\n",
            "Requirement already satisfied: fonttools>=4.22.0 in /usr/local/lib/python3.10/dist-packages (from matplotlib) (4.47.0)\n",
            "Requirement already satisfied: kiwisolver>=1.0.1 in /usr/local/lib/python3.10/dist-packages (from matplotlib) (1.4.5)\n",
            "Requirement already satisfied: numpy>=1.20 in /usr/local/lib/python3.10/dist-packages (from matplotlib) (1.23.5)\n",
            "Requirement already satisfied: packaging>=20.0 in /usr/local/lib/python3.10/dist-packages (from matplotlib) (23.2)\n",
            "Requirement already satisfied: pillow>=6.2.0 in /usr/local/lib/python3.10/dist-packages (from matplotlib) (9.4.0)\n",
            "Requirement already satisfied: pyparsing>=2.3.1 in /usr/local/lib/python3.10/dist-packages (from matplotlib) (3.1.1)\n",
            "Requirement already satisfied: python-dateutil>=2.7 in /usr/local/lib/python3.10/dist-packages (from matplotlib) (2.8.2)\n",
            "Requirement already satisfied: six>=1.5 in /usr/local/lib/python3.10/dist-packages (from python-dateutil>=2.7->matplotlib) (1.16.0)\n"
          ]
        }
      ]
    },
    {
      "cell_type": "code",
      "source": [
        "import pandas as pd\n",
        "import numpy as np\n",
        "import matplotlib.pyplot as plt\n",
        "from scipy.stats import chi2_contingency\n",
        "\n",
        "# Charger le fichier CSV des usagers\n",
        "df_usagers = pd.read_csv('usagers-2019.csv', delimiter=';')\n",
        "\n",
        "# Sélectionner les colonnes d'intérêt\n",
        "df_selected = df_usagers[['catu', 'grav', 'trajet']]\n",
        "\n",
        "# Remplacer les valeurs -1 et 0 par NaN pour trajet\n",
        "df_selected.loc[df_selected['trajet'].isin([-1, 0]), 'trajet'] = pd.NA\n",
        "\n",
        "# Table de contingence entre catégorie d'usager, gravité et trajet\n",
        "table_contingence = pd.crosstab([df_selected['catu'], df_selected['grav']], df_selected['trajet'])\n",
        "\n",
        "# Plotting\n",
        "fig, ax = plt.subplots(figsize=(10, 6))\n",
        "table_contingence.plot(kind='bar', stacked=True, ax=ax)\n",
        "\n",
        "# Ajouter des étiquettes\n",
        "plt.title('Corrélation entre catégorie d\\'usager, gravité et trajet')\n",
        "plt.xlabel('Catégorie d\\'usager - Gravité')\n",
        "plt.ylabel('Nombre d\\'accidents')\n",
        "\n",
        "# Afficher la légende\n",
        "plt.legend(title='Trajet', loc='upper right', bbox_to_anchor=(1.2, 1))\n",
        "\n",
        "# Afficher le diagramme\n",
        "plt.show()\n"
      ],
      "metadata": {
        "colab": {
          "base_uri": "https://localhost:8080/",
          "height": 588
        },
        "id": "3X5m1iDW3Zoa",
        "outputId": "a5d072ed-9382-41a4-bc4e-512e6f260282"
      },
      "execution_count": 36,
      "outputs": [
        {
          "output_type": "display_data",
          "data": {
            "text/plain": [
              "<Figure size 1000x600 with 1 Axes>"
            ],
            "image/png": "[encoded data removed]"
          },
          "metadata": {}
        }
      ]
    },
    {
      "cell_type": "code",
      "source": [
        "import pandas as pd\n",
        "import matplotlib.pyplot as plt\n",
        "\n",
        "# Charger le fichier CSV des usagers\n",
        "df_usagers = pd.read_csv('usagers-2019.csv', delimiter=';')\n",
        "\n",
        "# Sélectionner les colonnes d'intérêt\n",
        "df_selected = df_usagers[['catu', 'grav']]\n",
        "\n",
        "# Compter le nombre d'accidents pour chaque combinaison de catégorie d'usagers et gravité\n",
        "table_contingence = pd.crosstab(df_selected['catu'], df_selected['grav'])\n",
        "\n",
        "# Plotting\n",
        "fig, ax = plt.subplots(figsize=(10, 6))\n",
        "table_contingence.plot(kind='bar', stacked=True, ax=ax)\n",
        "\n",
        "# Ajouter des étiquettes\n",
        "plt.title('Relation entre catégorie d\\'usagers et gravité des accidents')\n",
        "plt.xlabel('Catégorie d\\'usagers')\n",
        "plt.ylabel('Nombre d\\'accidents')\n",
        "\n",
        "# Afficher la légende\n",
        "plt.legend(title='Gravité', loc='upper right', bbox_to_anchor=(1.2, 1))\n",
        "\n",
        "# Afficher le diagramme\n",
        "plt.show()\n"
      ],
      "metadata": {
        "colab": {
          "base_uri": "https://localhost:8080/",
          "height": 560
        },
        "id": "x-1k8xB33yav",
        "outputId": "805f66f0-d855-46e1-d012-18570898d8ff"
      },
      "execution_count": 37,
      "outputs": [
        {
          "output_type": "display_data",
          "data": {
            "text/plain": [
              "<Figure size 1000x600 with 1 Axes>"
            ],
            "image/png": "[encoded data removed]"
          },
          "metadata": {}
        }
      ]
    },
    {
      "cell_type": "code",
      "source": [
        "import pandas as pd\n",
        "from scipy.stats import chi2_contingency\n",
        "\n",
        "# Charger le fichier CSV des usagers\n",
        "df_usagers = pd.read_csv('usagers-2019.csv', delimiter=';')\n",
        "\n",
        "# Sélectionner les colonnes d'intérêt\n",
        "df_selected = df_usagers[['grav', 'catu']]\n",
        "\n",
        "# Créer une table de contingence entre gravité et catégorie d'usagers\n",
        "table_contingence = pd.crosstab(df_selected['grav'], df_selected['catu'])\n",
        "\n",
        "# Afficher la table de contingence\n",
        "print(table_contingence)\n",
        "\n",
        "# Effectuer le test du chi2 pour l'indépendance\n",
        "chi2, p, _, _ = chi2_contingency(table_contingence)\n",
        "\n",
        "# Afficher les résultats du test\n",
        "print(f\"Test du chi2 : {chi2}\")\n",
        "print(f\"P-valeur : {p}\")\n"
      ],
      "metadata": {
        "colab": {
          "base_uri": "https://localhost:8080/"
        },
        "id": "X56_qq694qKm",
        "outputId": "45918dda-402f-458f-c4ea-1429b68a190c"
      },
      "execution_count": 38,
      "outputs": [
        {
          "output_type": "stream",
          "name": "stdout",
          "text": [
            "catu      1      2     3\n",
            "grav                    \n",
            "1     46216   8775   323\n",
            "2      2449    514   535\n",
            "3     14063   3561  3234\n",
            "4     34628  11506  7173\n",
            "Test du chi2 : 8975.045911038444\n",
            "P-valeur : 0.0\n"
          ]
        }
      ]
    },
    {
      "cell_type": "markdown",
      "source": [
        "***grav***\n",
        "\n",
        "Gravité de blessure de l'usager, les usagers accidentés sont classés en trois catégories de\n",
        "victimes plus les indemnes :\n",
        "1 – Indemne\n",
        "2 – Tué\n",
        "3 – Blessé hospitalisé\n",
        "4 – Blessé léger\n",
        "\n",
        "***catu***\n",
        "\n",
        "Catégorie d'usager :\n",
        "1 – Conducteur\n",
        "2 – Passager\n",
        "3 – Piéton\n",
        "\n",
        "Commentaire : une forte correlation entre la catégorie des usagers notament les conducteur et la garvité des accident avec un p-value = 0.\n",
        "\n",
        "pour aller plus profendement dans notre analyse, nous allos etudier la gravité des accident en fonction Motif du déplacement au moment de l’accident\n",
        "\n",
        "***trajet***\n",
        "\n",
        "Motif du déplacement au moment de l’accident :\n",
        "-1 – Non renseigné\n",
        "0 – Non renseigné\n",
        "1 – Domicile – travail\n",
        "2 – Domicile – école\n",
        "3 – Courses – achats\n",
        "4 – Utilisation professionnelle\n",
        "5 – Promenade – loisirs\n",
        "9 – Autre"
      ],
      "metadata": {
        "id": "MzBQZ2oz39KF"
      }
    },
    {
      "cell_type": "code",
      "source": [
        "import pandas as pd\n",
        "from scipy.stats import chi2_contingency\n",
        "\n",
        "# Charger le fichier CSV des usagers\n",
        "df_usagers = pd.read_csv('usagers-2019.csv', delimiter=';')\n",
        "\n",
        "# Sélectionner les colonnes d'intérêt\n",
        "df_selected = df_usagers[['grav', 'trajet']]\n",
        "\n",
        "# Remplacer les valeurs -1 et 0 par NaN pour trajet\n",
        "df_selected['trajet'] = df_selected['trajet'].map(lambda x: pd.NA if x in [-1, 0] else x)\n",
        "\n",
        "# Créer une table de contingence entre gravité et trajet\n",
        "table_contingence = pd.crosstab(df_selected['grav'], df_selected['trajet'])\n",
        "\n",
        "# Afficher la table de contingence\n",
        "print(table_contingence)\n",
        "\n",
        "# Effectuer le test du chi2 pour l'indépendance\n",
        "chi2, p, _, _ = chi2_contingency(table_contingence)\n",
        "\n",
        "# Afficher les résultats du test\n",
        "print(f\"Test du chi2 : {chi2}\")\n",
        "print(f\"P-valeur : {p}\")\n",
        "\n"
      ],
      "metadata": {
        "colab": {
          "base_uri": "https://localhost:8080/"
        },
        "id": "gMmZGEr-67Lu",
        "outputId": "2d15e648-812c-4bc5-832d-1230ad83e5da"
      },
      "execution_count": 41,
      "outputs": [
        {
          "output_type": "stream",
          "name": "stdout",
          "text": [
            "trajet     1     2     3     4      5     9\n",
            "grav                                       \n",
            "1       7174   827  1501  8187  19670  3854\n",
            "2        306    43   163   115   1909   222\n",
            "3       2427   453   730   766  10815  1223\n",
            "4       7770  1513  1163  3438  19627  4162\n",
            "Test du chi2 : 4779.64652504797\n",
            "P-valeur : 0.0\n"
          ]
        },
        {
          "output_type": "stream",
          "name": "stderr",
          "text": [
            "<ipython-input-41-f2ef72f4aa35>:11: SettingWithCopyWarning: \n",
            "A value is trying to be set on a copy of a slice from a DataFrame.\n",
            "Try using .loc[row_indexer,col_indexer] = value instead\n",
            "\n",
            "See the caveats in the documentation: https://pandas.pydata.org/pandas-docs/stable/user_guide/indexing.html#returning-a-view-versus-a-copy\n",
            "  df_selected['trajet'] = df_selected['trajet'].map(lambda x: pd.NA if x in [-1, 0] else x)\n"
          ]
        }
      ]
    },
    {
      "cell_type": "code",
      "source": [
        "import pandas as pd\n",
        "import matplotlib.pyplot as plt\n",
        "\n",
        "# Charger le fichier CSV des usagers\n",
        "df_usagers = pd.read_csv('usagers-2019.csv', delimiter=';')\n",
        "\n",
        "# Sélectionner les colonnes d'intérêt\n",
        "df_selected = df_usagers[['grav', 'trajet']]\n",
        "\n",
        "# Remplacer les valeurs -1 et 0 par NaN pour trajet\n",
        "df_selected['trajet'] = df_selected['trajet'].map(lambda x: pd.NA if x in [-1, 0] else x)\n",
        "\n",
        "# Créer une table de contingence entre gravité et trajet\n",
        "table_contingence = pd.crosstab(df_selected['grav'], df_selected['trajet'])\n",
        "\n",
        "# Plot\n",
        "fig, ax = plt.subplots(figsize=(10, 6))\n",
        "table_contingence.plot(kind='bar', stacked=True, ax=ax)\n",
        "plt.title(\"Distribution de la gravité des accidents par motif de déplacement\")\n",
        "plt.xlabel(\"Gravité de l'accident\")\n",
        "plt.ylabel(\"Nombre d'accidents\")\n",
        "plt.legend(title=\"Motif de déplacement\", bbox_to_anchor=(1.05, 1), loc='upper left')\n",
        "\n",
        "plt.show()\n"
      ],
      "metadata": {
        "colab": {
          "base_uri": "https://localhost:8080/",
          "height": 663
        },
        "id": "nQtEzXaQ7Mgj",
        "outputId": "7c02e57d-5cdc-408f-f37f-dfbe916d9423"
      },
      "execution_count": 42,
      "outputs": [
        {
          "output_type": "stream",
          "name": "stderr",
          "text": [
            "<ipython-input-42-6d030f023a87>:11: SettingWithCopyWarning: \n",
            "A value is trying to be set on a copy of a slice from a DataFrame.\n",
            "Try using .loc[row_indexer,col_indexer] = value instead\n",
            "\n",
            "See the caveats in the documentation: https://pandas.pydata.org/pandas-docs/stable/user_guide/indexing.html#returning-a-view-versus-a-copy\n",
            "  df_selected['trajet'] = df_selected['trajet'].map(lambda x: pd.NA if x in [-1, 0] else x)\n"
          ]
        },
        {
          "output_type": "display_data",
          "data": {
            "text/plain": [
              "<Figure size 1000x600 with 1 Axes>"
            ],
            "image/png": "[encoded data removed]"
          },
          "metadata": {}
        }
      ]
    },
    {
      "cell_type": "markdown",
      "source": [
        "Il est observé que les accidents les plus graves et les plus fréquents sont principalement associés au motif de \"Promenade - Loisirs\". Cela soulève la question de savoir si pendant les loisirs, les individus sont moins enclins à porter des équipements de sécurité. Cette observation constitue un aspect que nous explorerons davantage dans nos prochaines analyses."
      ],
      "metadata": {
        "id": "nB-S1uYX7uDV"
      }
    },
    {
      "cell_type": "code",
      "source": [
        "#corrélation entre trajet et secu\n",
        "#secu1 Le renseignement du caractère indique la présence et l’utilisation de l’équipement de sécurité : -1 – Non renseigné 0 – Aucun équipement 1 – Ceinture 2 – Casque 3 – Dispositif enfants 4 – Gilet réfléchissant 5 – Airbag (2RM/3RM) 6 – Gants (2RM/3RM) 7 – Gants + Airbag (2RM/3RM) 8 – Non déterminable 9 – Autre"
      ],
      "metadata": {
        "id": "aXOJoRPq7tLr"
      },
      "execution_count": null,
      "outputs": []
    },
    {
      "cell_type": "code",
      "source": [
        "import pandas as pd\n",
        "import numpy as np\n",
        "from scipy.stats import chi2_contingency\n",
        "import matplotlib.pyplot as plt\n",
        "\n",
        "# Charger le fichier CSV des usagers\n",
        "df_usagers = pd.read_csv('usagers-2019.csv', delimiter=';')\n",
        "\n",
        "# Sélectionner les colonnes d'intérêt\n",
        "df_selected = df_usagers[['trajet', 'secu1']]\n",
        "\n",
        "# Remplacer les valeurs -1 par NaN pour la colonne trajet\n",
        "df_selected['trajet'] = np.where(df_selected['trajet'].isin([-1, 0]), pd.NA, df_selected['trajet'])\n",
        "df_selected['secu1'] = np.where(df_selected['secu1'] == -1, pd.NA, df_selected['secu1'])\n",
        "\n",
        "# Créer une table de contingence entre trajet et secu1\n",
        "table_contingence = pd.crosstab(df_selected['trajet'], df_selected['secu1'])\n",
        "\n",
        "# Afficher la table de contingence\n",
        "print(table_contingence)\n",
        "\n",
        "# Effectuer le test du chi2 pour l'indépendance\n",
        "chi2, p, _, _ = chi2_contingency(table_contingence)\n",
        "\n",
        "# Afficher les résultats du test\n",
        "print(f\"Test du chi2 : {chi2}\")\n",
        "print(f\"P-valeur : {p}\")\n",
        "\n",
        "# Plot\n",
        "fig, ax = plt.subplots(figsize=(10, 6))\n",
        "table_contingence.plot(kind='bar', stacked=True, ax=ax)\n",
        "plt.title(\"Distribution du motif de déplacement par équipement de sécurité\")\n",
        "plt.xlabel(\"Motif de déplacement\")\n",
        "plt.ylabel(\"Nombre d'accidents\")\n",
        "plt.legend(title=\"Équipement de sécurité\", bbox_to_anchor=(1.05, 1), loc='upper left')\n",
        "\n",
        "plt.show()\n"
      ],
      "metadata": {
        "colab": {
          "base_uri": "https://localhost:8080/",
          "height": 942
        },
        "id": "YpY9ZgLY9SPW",
        "outputId": "ca178d2c-7103-4bd4-ca9c-8cf33467d65d"
      },
      "execution_count": 45,
      "outputs": [
        {
          "output_type": "stream",
          "name": "stderr",
          "text": [
            "<ipython-input-45-363586e10033>:13: SettingWithCopyWarning: \n",
            "A value is trying to be set on a copy of a slice from a DataFrame.\n",
            "Try using .loc[row_indexer,col_indexer] = value instead\n",
            "\n",
            "See the caveats in the documentation: https://pandas.pydata.org/pandas-docs/stable/user_guide/indexing.html#returning-a-view-versus-a-copy\n",
            "  df_selected['trajet'] = np.where(df_selected['trajet'].isin([-1, 0]), pd.NA, df_selected['trajet'])\n",
            "<ipython-input-45-363586e10033>:14: SettingWithCopyWarning: \n",
            "A value is trying to be set on a copy of a slice from a DataFrame.\n",
            "Try using .loc[row_indexer,col_indexer] = value instead\n",
            "\n",
            "See the caveats in the documentation: https://pandas.pydata.org/pandas-docs/stable/user_guide/indexing.html#returning-a-view-versus-a-copy\n",
            "  df_selected['secu1'] = np.where(df_selected['secu1'] == -1, pd.NA, df_selected['secu1'])\n"
          ]
        },
        {
          "output_type": "stream",
          "name": "stdout",
          "text": [
            "secu1      0      1     2    3   4   5   6  7     8   9\n",
            "trajet                                                 \n",
            "1        459  10499  4770   10  18  18  19  0  1856  19\n",
            "2        398   1066   469   30   3   1   2  0   864   1\n",
            "3        463   2101   306   25   1   3   2  0   649   5\n",
            "4        390   9533  1239    1  39  12   0  2  1258  27\n",
            "5       3192  31558  9615  564  18  68  64  0  6826  78\n",
            "9        471   5554  1752   70   4  11   3  0  1565  23\n",
            "Test du chi2 : 4728.139890039592\n",
            "P-valeur : 0.0\n"
          ]
        },
        {
          "output_type": "display_data",
          "data": {
            "text/plain": [
              "<Figure size 1000x600 with 1 Axes>"
            ],
            "image/png": "[encoded data removed]"
          },
          "metadata": {}
        }
      ]
    },
    {
      "cell_type": "code",
      "source": [],
      "metadata": {
        "id": "vJksX8FJ9aRY"
      },
      "execution_count": null,
      "outputs": []
    },
    {
      "cell_type": "markdown",
      "source": [
        "L'analyse des données suggère une corrélation significative entre le motif de déplacement (trajet) et le port d'équipement de sécurité (secu1) lors des accidents. Plus précisément, pour le motif de \"Promenade – Loisirs\" (trajet = 5), il est observé que de nombreuses personnes ne portent aucun équipement de sécurité (bleu) lors de ces accidents.\n",
        "\n",
        "Cette observation soulève des préoccupations en matière de sécurité routière, car le fait de ne pas porter d'équipement de sécurité pendant les loisirs peut accroître le risque de blessures graves en cas d'accident. Il pourrait être pertinent d'envisager des campagnes de sensibilisation pour encourager l'utilisation d'équipements de sécurité, en particulier pour les trajets de loisirs"
      ],
      "metadata": {
        "id": "4J-oet3S9av4"
      }
    },
    {
      "cell_type": "markdown",
      "source": [
        "# **6-Conclusion de l'étude sur la Sécurité Routière en France**"
      ],
      "metadata": {
        "id": "nwaTNOQY-OI6"
      }
    },
    {
      "cell_type": "markdown",
      "source": [
        "L'analyse approfondie des données relatives aux accidents routiers en France, couvrant l'année 2019, a fourni des insights significatifs sur plusieurs paramètres cruciaux. Voici les conclusions principales de cette étude :\n",
        "\n",
        "Gravité des Accidents :\n",
        "\n",
        "La gravité des accidents varie en fonction de divers facteurs, notamment le trajet, Lumière , Etat de la surface , Catégorie d'usager et La présence et l’utilisation de l’équipement de sécurité\n",
        "\n",
        "\n",
        "\n",
        "Corrélation entre le nombre d'accident et la Lumière :\n",
        "\n",
        "\n",
        "Une corrélation significative a été observée entre la lumière au moment de l'accident et le nombres des accidents. Les accidents survenant du jours avec éclairage public semblent être plus importantes.\n",
        "\n",
        "\n",
        "Motif de Déplacement et Sécurité :\n",
        "\n",
        "Les accidents survenant pendant des trajets de \"Promenade – Loisirs\" présentent souvent un défaut d'utilisation d'équipement de sécurité. Des campagnes de sensibilisation pourraient être envisagées pour encourager le port d'équipements de sécurité pendant les loisirs.\n",
        "\n",
        "\n",
        "\n",
        "Une corrélation significative a été observée entre la catégorie d'usager, le motif de déplacement (trajet), et la gravité des accidents. Les usagers effectuant des trajets pour le travail semblent être moins touchés par des accidents graves.\n",
        "\n",
        "\n",
        "En conclusion, cette étude fournit une base solide pour comprendre les dynamiques des accidents routiers en France. Les résultats soulignent l'importance de stratégies ciblées pour améliorer la sécurité routière, en mettant l'accent sur la sensibilisation, la réglementation et l'infrastructure."
      ],
      "metadata": {
        "id": "kVq9GZPU-z4d"
      }
    }
  ]
}